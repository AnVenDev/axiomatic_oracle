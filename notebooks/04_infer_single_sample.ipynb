{
 "cells": [
  {
   "cell_type": "markdown",
   "id": "10c75f60-9ee0-42f9-9b6b-21c018a83790",
   "metadata": {
    "jp-MarkdownHeadingCollapsed": true
   },
   "source": [
    "## 01. Imports & Paths"
   ]
  },
  {
   "cell_type": "code",
   "execution_count": 36,
   "id": "2d6afe71-a30b-4efa-b790-baab0312540d",
   "metadata": {},
   "outputs": [
    {
     "name": "stdout",
     "output_type": "stream",
     "text": [
      "Loaded model + metadata paths OK.\n",
      "Expected features: ['location', 'energy_class', 'has_elevator', 'has_garden', 'has_balcony', 'garage', 'size_m2', 'rooms', 'bathrooms', 'year_built', 'floor', 'building_floors', 'humidity_level', 'temperature_avg', 'noise_level', 'air_quality_index', 'age_years']\n"
     ]
    }
   ],
   "source": [
    "import os\n",
    "import json\n",
    "from datetime import datetime\n",
    "from pathlib import Path\n",
    "import hashlib\n",
    "import pandas as pd\n",
    "import numpy as np\n",
    "import joblib\n",
    "import requests\n",
    "\n",
    "ASSET_TYPE = \"property\"\n",
    "MODEL_VERSION = \"v1\"               # aggiorna se cambi modello\n",
    "MODEL_DIR = Path(f\"../models/{ASSET_TYPE}\")\n",
    "PIPELINE_PATH = MODEL_DIR / f\"value_regressor_{MODEL_VERSION}.joblib\"\n",
    "META_PATH     = MODEL_DIR / f\"value_regressor_{MODEL_VERSION}_meta.json\"\n",
    "LOG_PATH      = Path(\"../data/predictions_log.jsonl\")\n",
    "API_BASE      = \"http://127.0.0.1:8000\"  # opzionale: endpoint FastAPI\n",
    "COMPARE_WITH_API = True                   # metti False se non vuoi fare richieste HTTP\n",
    "\n",
    "assert PIPELINE_PATH.exists(), f\"Missing pipeline file: {PIPELINE_PATH}\"\n",
    "assert META_PATH.exists(), f\"Missing metadata file: {META_PATH}\"\n",
    "print(\"Loaded model + metadata paths OK.\")\n",
    "\n",
    "pipeline = joblib.load(PIPELINE_PATH)\n",
    "with META_PATH.open(\"r\", encoding=\"utf-8\") as f:\n",
    "    model_meta = json.load(f)\n",
    "\n",
    "categorical_expected = model_meta[\"features_categorical\"]\n",
    "numeric_expected = model_meta[\"features_numeric\"]\n",
    "ALL_EXPECTED = categorical_expected + numeric_expected\n",
    "\n",
    "print(\"Expected features:\", ALL_EXPECTED)"
   ]
  },
  {
   "cell_type": "markdown",
   "id": "22e625d7-fa88-45b0-90fd-bc6e9dfa8dc0",
   "metadata": {
    "jp-MarkdownHeadingCollapsed": true
   },
   "source": [
    "## 02. Load Pipeline & Metadata"
   ]
  },
  {
   "cell_type": "code",
   "execution_count": 37,
   "id": "343fc03a-0516-4d0e-b48f-bde2944caddc",
   "metadata": {},
   "outputs": [
    {
     "name": "stdout",
     "output_type": "stream",
     "text": [
      "Expected features: 17\n"
     ]
    }
   ],
   "source": [
    "pipeline = joblib.load(PIPELINE_PATH)\n",
    "with META_PATH.open(\"r\", encoding=\"utf-8\") as f:\n",
    "    model_meta = json.load(f)\n",
    "\n",
    "categorical_expected = model_meta[\"features_categorical\"]\n",
    "numeric_expected = model_meta[\"features_numeric\"]\n",
    "ALL_EXPECTED = categorical_expected + numeric_expected\n",
    "\n",
    "print(\"Expected features:\", len(ALL_EXPECTED))"
   ]
  },
  {
   "cell_type": "markdown",
   "id": "1d55eb44-9ea4-4092-a3d1-7c910a6c2e76",
   "metadata": {
    "jp-MarkdownHeadingCollapsed": true
   },
   "source": [
    "## 03. Validation Utilities"
   ]
  },
  {
   "cell_type": "code",
   "execution_count": 38,
   "id": "ae9985cd-a991-4471-8629-63b656695c92",
   "metadata": {},
   "outputs": [],
   "source": [
    "def autofill_derived(record: dict) -> dict:\n",
    "    \"\"\"If age_years missing but year_built present, derive it.\"\"\"\n",
    "    if \"age_years\" not in record and \"year_built\" in record:\n",
    "        record = {**record, \"age_years\": datetime.utcnow().year - int(record[\"year_built\"])}\n",
    "    return record\n",
    "\n",
    "def validate_input_record(record: dict, strict=True):\n",
    "    \"\"\"\n",
    "    Validates that all expected features are present.\n",
    "    If strict=True, rejects extra keys.\n",
    "    Auto-fills derived features if possible.\n",
    "    Raises ValueError on problems.\n",
    "    \"\"\"\n",
    "    record = autofill_derived(record)\n",
    "    missing = [f for f in ALL_EXPECTED if f not in record]\n",
    "    extras = [f for f in record if f not in ALL_EXPECTED]\n",
    "    if missing:\n",
    "        raise ValueError(f\"Missing required features: {missing}\")\n",
    "    if strict and extras:\n",
    "        raise ValueError(f\"Unexpected extra features: {extras}\")\n",
    "    return record"
   ]
  },
  {
   "cell_type": "markdown",
   "id": "0341141f-3525-4d22-92f8-a68edc266946",
   "metadata": {
    "jp-MarkdownHeadingCollapsed": true
   },
   "source": [
    "## 04. Sample Single Property"
   ]
  },
  {
   "cell_type": "code",
   "execution_count": 39,
   "id": "1d920b40-4628-4766-a1f0-231f3487d26d",
   "metadata": {},
   "outputs": [],
   "source": [
    "sample_property = {\n",
    "    \"location\": \"Milan\",\n",
    "    \"size_m2\": 95,\n",
    "    \"rooms\": 4,\n",
    "    \"bathrooms\": 2,\n",
    "    \"year_built\": 1999,\n",
    "    \"floor\": 2,\n",
    "    \"building_floors\": 6,\n",
    "    \"has_elevator\": 1,\n",
    "    \"has_garden\": 0,\n",
    "    \"has_balcony\": 1,\n",
    "    \"garage\": 1,\n",
    "    \"energy_class\": \"B\",\n",
    "    \"humidity_level\": 50.0,\n",
    "    \"temperature_avg\": 20.5,\n",
    "    \"noise_level\": 40,\n",
    "    \"air_quality_index\": 70,\n",
    "}\n",
    "\n",
    "sample_property = validate_input_record(sample_property, strict=True)"
   ]
  },
  {
   "cell_type": "markdown",
   "id": "f53df569-abec-4acb-93a8-85c2354350ee",
   "metadata": {
    "jp-MarkdownHeadingCollapsed": true
   },
   "source": [
    "## 05. Local Prediction"
   ]
  },
  {
   "cell_type": "code",
   "execution_count": 40,
   "id": "2ddd8d9e-2ac0-4371-be4d-18f3b78a6440",
   "metadata": {},
   "outputs": [
    {
     "name": "stdout",
     "output_type": "stream",
     "text": [
      "[LOCAL] Predicted valuation_k: 271.799 (k€)\n"
     ]
    }
   ],
   "source": [
    "df_input = pd.DataFrame([sample_property])\n",
    "pred_value = float(pipeline.predict(df_input)[0])\n",
    "print(f\"[LOCAL] Predicted valuation_k: {pred_value:.3f} (k€)\")"
   ]
  },
  {
   "cell_type": "markdown",
   "id": "4a87ecb6-8531-4cba-a6dc-1d28d2c13084",
   "metadata": {
    "jp-MarkdownHeadingCollapsed": true
   },
   "source": [
    "## 06. Output Schema Builder"
   ]
  },
  {
   "cell_type": "code",
   "execution_count": 41,
   "id": "54f1349a-c432-448f-a598-612fa51e67a8",
   "metadata": {},
   "outputs": [
    {
     "data": {
      "text/plain": [
       "{'asset_id': 'asset_manual_0001',\n",
       " 'asset_type': 'property',\n",
       " 'timestamp': '2025-07-20T15:05:31Z',\n",
       " 'metrics': {'valuation_base_k': 271.799},\n",
       " 'flags': {'anomaly': False, 'needs_review': False},\n",
       " 'model_meta': {'value_model_version': 'v1',\n",
       "  'value_model_name': 'RandomForestRegressor'},\n",
       " 'offchain_refs': {'detail_report_hash': None, 'sensor_batch_hash': None}}"
      ]
     },
     "execution_count": 41,
     "metadata": {},
     "output_type": "execute_result"
    }
   ],
   "source": [
    "def build_output_schema(\n",
    "    asset_id: str,\n",
    "    asset_type: str,\n",
    "    valuation_k: float,\n",
    "    model_meta: dict,\n",
    "    condition_score: float = None,\n",
    "    risk_score: float = None,\n",
    "    anomaly: bool = False,\n",
    "    needs_review: bool = False,\n",
    "    extra_metrics: dict = None\n",
    "):\n",
    "    out = {\n",
    "        \"asset_id\": asset_id,\n",
    "        \"asset_type\": asset_type,\n",
    "        \"timestamp\": datetime.utcnow().isoformat(timespec=\"seconds\") + \"Z\",\n",
    "        \"metrics\": {\n",
    "            \"valuation_base_k\": round(float(valuation_k), 3)\n",
    "        },\n",
    "        \"flags\": {\n",
    "            \"anomaly\": anomaly,\n",
    "            \"needs_review\": needs_review\n",
    "        },\n",
    "        \"model_meta\": {\n",
    "            \"value_model_version\": model_meta.get(\"model_version\"),\n",
    "            \"value_model_name\": model_meta.get(\"model_class\")\n",
    "        },\n",
    "        \"offchain_refs\": {\n",
    "            \"detail_report_hash\": None,\n",
    "            \"sensor_batch_hash\": None\n",
    "        }\n",
    "    }\n",
    "    if condition_score is not None:\n",
    "        out[\"metrics\"][\"condition_score\"] = round(float(condition_score), 3)\n",
    "    if risk_score is not None:\n",
    "        out[\"metrics\"][\"risk_score\"] = round(float(risk_score), 3)\n",
    "    if extra_metrics:\n",
    "        for k, v in extra_metrics.items():\n",
    "            out[\"metrics\"][k] = v\n",
    "    return out\n",
    "\n",
    "single_output = build_output_schema(\n",
    "    asset_id=\"asset_manual_0001\",\n",
    "    asset_type=ASSET_TYPE,\n",
    "    valuation_k=pred_value,\n",
    "    model_meta=model_meta\n",
    ")\n",
    "\n",
    "single_output"
   ]
  },
  {
   "cell_type": "markdown",
   "id": "2a6fac87-59c9-4c72-8338-3258c69ce606",
   "metadata": {
    "jp-MarkdownHeadingCollapsed": true
   },
   "source": [
    "## 07. Batch Inference"
   ]
  },
  {
   "cell_type": "code",
   "execution_count": 42,
   "id": "fee068f8-37fe-4d6e-9e08-1a27b4ecb5e2",
   "metadata": {},
   "outputs": [
    {
     "data": {
      "text/html": [
       "<div>\n",
       "<style scoped>\n",
       "    .dataframe tbody tr th:only-of-type {\n",
       "        vertical-align: middle;\n",
       "    }\n",
       "\n",
       "    .dataframe tbody tr th {\n",
       "        vertical-align: top;\n",
       "    }\n",
       "\n",
       "    .dataframe thead th {\n",
       "        text-align: right;\n",
       "    }\n",
       "</style>\n",
       "<table border=\"1\" class=\"dataframe\">\n",
       "  <thead>\n",
       "    <tr style=\"text-align: right;\">\n",
       "      <th></th>\n",
       "      <th>asset_id</th>\n",
       "      <th>valuation_k</th>\n",
       "    </tr>\n",
       "  </thead>\n",
       "  <tbody>\n",
       "    <tr>\n",
       "      <th>0</th>\n",
       "      <td>asset_batch_001</td>\n",
       "      <td>271.799</td>\n",
       "    </tr>\n",
       "    <tr>\n",
       "      <th>1</th>\n",
       "      <td>asset_batch_002</td>\n",
       "      <td>331.090</td>\n",
       "    </tr>\n",
       "    <tr>\n",
       "      <th>2</th>\n",
       "      <td>asset_batch_003</td>\n",
       "      <td>198.326</td>\n",
       "    </tr>\n",
       "    <tr>\n",
       "      <th>3</th>\n",
       "      <td>asset_batch_004</td>\n",
       "      <td>371.052</td>\n",
       "    </tr>\n",
       "  </tbody>\n",
       "</table>\n",
       "</div>"
      ],
      "text/plain": [
       "          asset_id  valuation_k\n",
       "0  asset_batch_001      271.799\n",
       "1  asset_batch_002      331.090\n",
       "2  asset_batch_003      198.326\n",
       "3  asset_batch_004      371.052"
      ]
     },
     "execution_count": 42,
     "metadata": {},
     "output_type": "execute_result"
    }
   ],
   "source": [
    "batch_samples = [\n",
    "    sample_property,\n",
    "    {**sample_property, \"location\": \"Rome\", \"size_m2\": 120, \"energy_class\": \"C\"},\n",
    "    {**sample_property, \"location\": \"Florence\", \"size_m2\": 70, \"has_garden\": 1, \"energy_class\": \"A\"},\n",
    "    {**sample_property, \"location\": \"Turin\", \"size_m2\": 150, \"energy_class\": \"D\"}\n",
    "]\n",
    "\n",
    "validated_batch = [validate_input_record(r, strict=True) for r in batch_samples]\n",
    "df_batch = pd.DataFrame(validated_batch)\n",
    "batch_preds = pipeline.predict(df_batch)\n",
    "\n",
    "batch_outputs = [\n",
    "    build_output_schema(\n",
    "        asset_id=f\"asset_batch_{i:03}\",\n",
    "        asset_type=ASSET_TYPE,\n",
    "        valuation_k=float(val),\n",
    "        model_meta=model_meta\n",
    "    )\n",
    "    for i, val in enumerate(batch_preds, start=1)\n",
    "]\n",
    "\n",
    "pd.DataFrame([{\"asset_id\": o[\"asset_id\"], \"valuation_k\": o[\"metrics\"][\"valuation_base_k\"]} for o in batch_outputs])"
   ]
  },
  {
   "cell_type": "markdown",
   "id": "c9b30533-6431-4327-8c9a-b781ecd1601f",
   "metadata": {
    "jp-MarkdownHeadingCollapsed": true
   },
   "source": [
    "## 08. Logging JSON"
   ]
  },
  {
   "cell_type": "code",
   "execution_count": 43,
   "id": "cb4b3446-a1ba-4b53-9cd2-83ae069e8b1f",
   "metadata": {},
   "outputs": [
    {
     "name": "stdout",
     "output_type": "stream",
     "text": [
      "Appended 5 predictions to ..\\data\\predictions_log.jsonl\n"
     ]
    }
   ],
   "source": [
    "def append_jsonl(record: dict, path: Path):\n",
    "    record = {**record, \"_logged_at\": datetime.utcnow().isoformat() + \"Z\"}\n",
    "    with path.open(\"a\", encoding=\"utf-8\") as f:\n",
    "        f.write(json.dumps(record) + \"\\n\")\n",
    "\n",
    "append_jsonl(single_output, LOG_PATH)\n",
    "for o in batch_outputs:\n",
    "    append_jsonl(o, LOG_PATH)\n",
    "\n",
    "print(f\"Appended {1 + len(batch_outputs)} predictions to {LOG_PATH}\")"
   ]
  },
  {
   "cell_type": "markdown",
   "id": "fbc82054-05e6-4bc5-99a4-46d015820d74",
   "metadata": {
    "jp-MarkdownHeadingCollapsed": true
   },
   "source": [
    "## 09. Utility: Single Prediction Function For Reuse"
   ]
  },
  {
   "cell_type": "code",
   "execution_count": 44,
   "id": "1b190e70-f17f-4b47-beb3-0631ac1a6b73",
   "metadata": {},
   "outputs": [
    {
     "data": {
      "text/plain": [
       "{'asset_id': 'asset_function_test',\n",
       " 'asset_type': 'property',\n",
       " 'timestamp': '2025-07-20T15:05:31Z',\n",
       " 'metrics': {'valuation_base_k': 271.799},\n",
       " 'flags': {'anomaly': False, 'needs_review': False},\n",
       " 'model_meta': {'value_model_version': 'v1',\n",
       "  'value_model_name': 'RandomForestRegressor'},\n",
       " 'offchain_refs': {'detail_report_hash': None, 'sensor_batch_hash': None}}"
      ]
     },
     "execution_count": 44,
     "metadata": {},
     "output_type": "execute_result"
    }
   ],
   "source": [
    "def predict_asset(record: dict, asset_id: str, asset_type: str = ASSET_TYPE):\n",
    "    rec = validate_input_record(record, strict=True)\n",
    "    df_in = pd.DataFrame([rec])\n",
    "    val = float(pipeline.predict(df_in)[0])\n",
    "    return build_output_schema(\n",
    "        asset_id=asset_id,\n",
    "        asset_type=asset_type,\n",
    "        valuation_k=val,\n",
    "        model_meta=model_meta\n",
    "    )\n",
    "\n",
    "test_output = predict_asset(sample_property, asset_id=\"asset_function_test\")\n",
    "test_output"
   ]
  },
  {
   "cell_type": "markdown",
   "id": "b507a90c-a003-40e6-a97c-d4763895ba1c",
   "metadata": {
    "jp-MarkdownHeadingCollapsed": true
   },
   "source": [
    "## 10. Sensitivity Check (vary size_m2)"
   ]
  },
  {
   "cell_type": "code",
   "execution_count": 45,
   "id": "e1622a58-f3cd-47b3-8e5b-efe2cc2eadcd",
   "metadata": {
    "scrolled": true
   },
   "outputs": [
    {
     "data": {
      "text/html": [
       "<div>\n",
       "<style scoped>\n",
       "    .dataframe tbody tr th:only-of-type {\n",
       "        vertical-align: middle;\n",
       "    }\n",
       "\n",
       "    .dataframe tbody tr th {\n",
       "        vertical-align: top;\n",
       "    }\n",
       "\n",
       "    .dataframe thead th {\n",
       "        text-align: right;\n",
       "    }\n",
       "</style>\n",
       "<table border=\"1\" class=\"dataframe\">\n",
       "  <thead>\n",
       "    <tr style=\"text-align: right;\">\n",
       "      <th></th>\n",
       "      <th>size_m2</th>\n",
       "      <th>prediction_k</th>\n",
       "    </tr>\n",
       "  </thead>\n",
       "  <tbody>\n",
       "    <tr>\n",
       "      <th>0</th>\n",
       "      <td>60</td>\n",
       "      <td>106.793</td>\n",
       "    </tr>\n",
       "    <tr>\n",
       "      <th>1</th>\n",
       "      <td>90</td>\n",
       "      <td>230.003</td>\n",
       "    </tr>\n",
       "    <tr>\n",
       "      <th>2</th>\n",
       "      <td>130</td>\n",
       "      <td>339.309</td>\n",
       "    </tr>\n",
       "    <tr>\n",
       "      <th>3</th>\n",
       "      <td>170</td>\n",
       "      <td>379.731</td>\n",
       "    </tr>\n",
       "    <tr>\n",
       "      <th>4</th>\n",
       "      <td>210</td>\n",
       "      <td>498.415</td>\n",
       "    </tr>\n",
       "  </tbody>\n",
       "</table>\n",
       "</div>"
      ],
      "text/plain": [
       "   size_m2  prediction_k\n",
       "0       60       106.793\n",
       "1       90       230.003\n",
       "2      130       339.309\n",
       "3      170       379.731\n",
       "4      210       498.415"
      ]
     },
     "execution_count": 45,
     "metadata": {},
     "output_type": "execute_result"
    }
   ],
   "source": [
    "sizes = [60, 90, 130, 170, 210]\n",
    "size_variations = []\n",
    "for s in sizes:\n",
    "    rec = {**sample_property, \"size_m2\": s}\n",
    "    rec = validate_input_record(rec, strict=True)\n",
    "    val = float(pipeline.predict(pd.DataFrame([rec]))[0])\n",
    "    size_variations.append({\"size_m2\": s, \"prediction_k\": round(val, 3)})\n",
    "\n",
    "pd.DataFrame(size_variations)"
   ]
  },
  {
   "cell_type": "markdown",
   "id": "c84f9f3e-aaad-4843-a735-1c388f17da55",
   "metadata": {
    "jp-MarkdownHeadingCollapsed": true
   },
   "source": [
    "## 11. Compare With API Prediction Consistency"
   ]
  },
  {
   "cell_type": "code",
   "execution_count": 46,
   "id": "40996a99-ed49-473f-8ddb-74d5d36f932d",
   "metadata": {},
   "outputs": [
    {
     "name": "stdout",
     "output_type": "stream",
     "text": [
      "[API] Compare skipped: HTTPConnectionPool(host='127.0.0.1', port=8000): Max retries exceeded with url: /predict/property (Caused by NewConnectionError('<urllib3.connection.HTTPConnection object at 0x000001FF0E779DD0>: Failed to establish a new connection: [WinError 10061] Impossibile stabilire la connessione. Rifiuto persistente del computer di destinazione'))\n"
     ]
    }
   ],
   "source": [
    "if COMPARE_WITH_API:\n",
    "    try:\n",
    "        api_resp = requests.post(f\"{API_BASE}/predict/{ASSET_TYPE}\", json=sample_property, timeout=5)\n",
    "        if api_resp.status_code == 200:\n",
    "            api_json = api_resp.json()\n",
    "            api_pred = api_json[\"metrics\"][\"valuation_base_k\"]\n",
    "            delta = abs(api_pred - pred_value)\n",
    "            print(f\"[API] Pred: {api_pred:.3f} k€ | Local: {pred_value:.3f} k€ | Δ={delta:.4f}\")\n",
    "        else:\n",
    "            print(f\"[API] Request failed status={api_resp.status_code} body={api_resp.text}\")\n",
    "    except Exception as e:\n",
    "        print(f\"[API] Compare skipped: {e}\")"
   ]
  },
  {
   "cell_type": "markdown",
   "id": "2eb46f5d-8713-442d-a46b-3da6b3f70278",
   "metadata": {},
   "source": [
    "## 12. Hash Pipeline File (Audit)"
   ]
  },
  {
   "cell_type": "code",
   "execution_count": 47,
   "id": "703b2c48-e21a-441c-a574-e266a542cbb6",
   "metadata": {},
   "outputs": [
    {
     "name": "stdout",
     "output_type": "stream",
     "text": [
      "Model file hash (sha256, first 16 chars): cb0798a3a14e95b2\n"
     ]
    }
   ],
   "source": [
    "def file_sha256(path: Path) -> str:\n",
    "    h = hashlib.sha256()\n",
    "    with path.open(\"rb\") as f:\n",
    "        for chunk in iter(lambda: f.read(8192), b\"\"):\n",
    "            h.update(chunk)\n",
    "    return h.hexdigest()\n",
    "\n",
    "print(\"Model file hash (sha256, first 16 chars):\", file_sha256(PIPELINE_PATH)[:16])"
   ]
  },
  {
   "cell_type": "markdown",
   "id": "19638225-dee1-4d0c-8602-35c3968fc527",
   "metadata": {},
   "source": [
    "## 13. Schema Validation"
   ]
  },
  {
   "cell_type": "code",
   "execution_count": 48,
   "id": "04d77216-493c-4675-87c0-e03489baf1cf",
   "metadata": {},
   "outputs": [
    {
     "name": "stdout",
     "output_type": "stream",
     "text": [
      "single_output matches schema\n"
     ]
    }
   ],
   "source": [
    "from jsonschema import validate, ValidationError\n",
    "import json\n",
    "schema = json.load(open(\"../schemas/output_example.json\"))\n",
    "try:\n",
    "    validate(single_output, schema)\n",
    "    print(\"single_output matches schema\")\n",
    "except ValidationError as e:\n",
    "    print(\"Schema mismatch:\", e.message)"
   ]
  },
  {
   "cell_type": "markdown",
   "id": "9af270e6-f896-4bcd-b045-0056f799ddb4",
   "metadata": {},
   "source": [
    "### TODO:\n",
    "* Add dynamic condition/risk estimation (using regression or rule-based logic).\n",
    "* Add batch scoring function from a CSV file.\n",
    "* Export results to an inference_results.csv file for debugging purposes."
   ]
  }
 ],
 "metadata": {
  "kernelspec": {
   "display_name": "Python 3 (ipykernel)",
   "language": "python",
   "name": "python3"
  },
  "language_info": {
   "codemirror_mode": {
    "name": "ipython",
    "version": 3
   },
   "file_extension": ".py",
   "mimetype": "text/x-python",
   "name": "python",
   "nbconvert_exporter": "python",
   "pygments_lexer": "ipython3",
   "version": "3.11.13"
  }
 },
 "nbformat": 4,
 "nbformat_minor": 5
}
