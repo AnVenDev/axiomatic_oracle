{
 "cells": [
  {
   "cell_type": "markdown",
   "id": "8cc119a1-28bd-47af-8a5d-38204c005bdf",
   "metadata": {},
   "source": [
    "## 01. Imports & Dataset Upload"
   ]
  },
  {
   "cell_type": "code",
   "execution_count": 31,
   "id": "ba165936-c2d9-4dd5-b388-62912b63f069",
   "metadata": {},
   "outputs": [],
   "source": [
    "from datetime import datetime\n",
    "from sklearn.compose import ColumnTransformer, TransformedTargetRegressor\n",
    "from sklearn.metrics import mean_absolute_error, make_scorer, mean_squared_error\n",
    "from sklearn.model_selection import train_test_split, cross_val_score, TimeSeriesSplit\n",
    "from sklearn.pipeline import Pipeline\n",
    "from sklearn.preprocessing import OneHotEncoder\n",
    "import os\n",
    "import optuna\n",
    "import json\n",
    "import hashlib\n",
    "import joblib\n",
    "import warnings\n",
    "import logging\n",
    "import numpy as np\n",
    "import pandas as pd\n",
    "import matplotlib.pyplot as plt\n",
    "import lightgbm as lgb\n",
    "\n",
    "# Setup\n",
    "warnings.filterwarnings(\"ignore\")\n",
    "np.random.seed(42)\n",
    "RANDOM_STATE = 42\n",
    "\n",
    "logging.basicConfig(level=logging.INFO, format=\"%(asctime)s [%(levelname)s] %(message)s\")\n",
    "\n",
    "ASSET_TYPE = \"property\"\n",
    "DATA_PATH = \"../data/df_cleaned_no_outliers.csv\"\n",
    "MODEL_BASE_DIR = \"../models\"\n",
    "\n",
    "ASSET_CONFIG = {\n",
    "    \"property\": {\n",
    "        \"target\": \"valuation_k\",\n",
    "        \"categorical\": [\n",
    "            \"location\", \"energy_class\", \"has_elevator\", \"has_garden\",\n",
    "            \"has_balcony\", \"garage\", \"owner_occupied\", \"public_transport_nearby\"\n",
    "        ],\n",
    "        \"numeric\": [\n",
    "            \"size_m2\", \"rooms\", \"bathrooms\", \"year_built\", \"floor\", \"building_floors\",\n",
    "            \"humidity_level\", \"temperature_avg\", \"noise_level\", \"air_quality_index\",\n",
    "            \"luxury_score\", \"env_score\", \"distance_to_center_km\", \"valuation_k\",\n",
    "            \"last_verified_ts\"\n",
    "        ],\n",
    "        \"exclude\": [\n",
    "            \"asset_id\", \"asset_type\", \"condition_score\", \"risk_score\",\n",
    "            \"prediction_ts\", \"age_years\", \"age_category\", \"luxury_category\", \"value_segment\", \"timestamp\"\n",
    "        ],\n",
    "    },\n",
    "    \"art\": {\"target\": \"valuation_k\", \"categorical\": [], \"numeric\": [], \"exclude\": []},\n",
    "}\n",
    "\n",
    "assert ASSET_TYPE in ASSET_CONFIG, f\"Unknown asset_type: {ASSET_TYPE}\"\n",
    "cfg = ASSET_CONFIG[ASSET_TYPE]\n",
    "cfg[\"numeric\"] = [c for c in cfg[\"numeric\"] if c not in [\"last_verified_ts\", \"valuation_k\"]]"
   ]
  },
  {
   "cell_type": "markdown",
   "id": "2c0f3f96-b7be-48ff-a9b2-2c9b9569cb63",
   "metadata": {},
   "source": [
    "## 02. Load Dataset"
   ]
  },
  {
   "cell_type": "code",
   "execution_count": 10,
   "id": "38892f35-5a7d-488c-83d2-a99bca1e6fee",
   "metadata": {
    "scrolled": true
   },
   "outputs": [
    {
     "name": "stderr",
     "output_type": "stream",
     "text": [
      "2025-07-29 04:03:36,751 [INFO] 📥 Loaded dataset: ../data/df_cleaned_no_outliers.csv | Shape: (4929, 49)\n"
     ]
    }
   ],
   "source": [
    "df = pd.read_csv(DATA_PATH)\n",
    "logging.info(f\"📥 Loaded dataset: {DATA_PATH} | Shape: {df.shape}\")"
   ]
  },
  {
   "cell_type": "code",
   "execution_count": 11,
   "id": "cb911ba4-7659-4d24-ac3d-301abbce6e6b",
   "metadata": {},
   "outputs": [
    {
     "name": "stderr",
     "output_type": "stream",
     "text": [
      "2025-07-29 04:03:42,625 [INFO] ⚙️ Ensuring required engineered features...\n"
     ]
    }
   ],
   "source": [
    "# Ensure important engineered features are present\n",
    "logging.info(\"⚙️ Ensuring required engineered features...\")\n",
    "\n",
    "if \"age_years\" not in df.columns and \"year_built\" in df.columns:\n",
    "    current_year = datetime.utcnow().year\n",
    "    df[\"age_years\"] = current_year - df[\"year_built\"]\n",
    "\n",
    "if \"price_per_sqm\" not in df.columns:\n",
    "    df[\"price_per_sqm\"] = df[\"valuation_k\"] * 1000 / df[\"size_m2\"]\n",
    "\n",
    "if \"luxury_score\" not in df.columns:\n",
    "    df[\"luxury_score\"] = (df[\"has_garden\"] + df[\"has_balcony\"] + df[\"garage\"]) / 3\n",
    "\n",
    "if \"efficiency_score\" not in df.columns:\n",
    "    df[\"efficiency_score\"] = (\n",
    "        (df[\"valuation_k\"] / df[\"size_m2\"]) * (1 + df[\"luxury_score\"])\n",
    "    )\n",
    "\n",
    "df = df.drop(columns=[\"efficiency_score\", \"price_per_sqm\"], errors=\"ignore\")"
   ]
  },
  {
   "cell_type": "markdown",
   "id": "c08c1d08-0b0e-4ed0-bbd9-94c27b0909e3",
   "metadata": {},
   "source": [
    "## 03. Normalization / Derivations"
   ]
  },
  {
   "cell_type": "code",
   "execution_count": 12,
   "id": "8e773326-72f1-480d-8473-b685af965df1",
   "metadata": {
    "scrolled": true
   },
   "outputs": [
    {
     "name": "stderr",
     "output_type": "stream",
     "text": [
      "2025-07-29 04:03:43,896 [INFO] ✅ Dataset ready | Shape: (4929, 39)\n"
     ]
    },
    {
     "data": {
      "text/html": [
       "<div>\n",
       "<style scoped>\n",
       "    .dataframe tbody tr th:only-of-type {\n",
       "        vertical-align: middle;\n",
       "    }\n",
       "\n",
       "    .dataframe tbody tr th {\n",
       "        vertical-align: top;\n",
       "    }\n",
       "\n",
       "    .dataframe thead th {\n",
       "        text-align: right;\n",
       "    }\n",
       "</style>\n",
       "<table border=\"1\" class=\"dataframe\">\n",
       "  <thead>\n",
       "    <tr style=\"text-align: right;\">\n",
       "      <th></th>\n",
       "      <th>location</th>\n",
       "      <th>region</th>\n",
       "      <th>urban_type</th>\n",
       "      <th>size_m2</th>\n",
       "      <th>rooms</th>\n",
       "      <th>bathrooms</th>\n",
       "      <th>year_built</th>\n",
       "      <th>floor</th>\n",
       "      <th>building_floors</th>\n",
       "      <th>has_elevator</th>\n",
       "      <th>...</th>\n",
       "      <th>avg_room_size</th>\n",
       "      <th>location_premium</th>\n",
       "      <th>amenity_count</th>\n",
       "      <th>price_vs_region_avg</th>\n",
       "      <th>size_bin</th>\n",
       "      <th>days_since_verification</th>\n",
       "      <th>hours_since_verification</th>\n",
       "      <th>anomaly_score</th>\n",
       "      <th>anomaly_flag</th>\n",
       "      <th>age_years</th>\n",
       "    </tr>\n",
       "  </thead>\n",
       "  <tbody>\n",
       "    <tr>\n",
       "      <th>0</th>\n",
       "      <td>Catania</td>\n",
       "      <td>south</td>\n",
       "      <td>semiurban</td>\n",
       "      <td>142</td>\n",
       "      <td>5</td>\n",
       "      <td>1</td>\n",
       "      <td>1964</td>\n",
       "      <td>2</td>\n",
       "      <td>7</td>\n",
       "      <td>1</td>\n",
       "      <td>...</td>\n",
       "      <td>28.400000</td>\n",
       "      <td>1.0</td>\n",
       "      <td>3</td>\n",
       "      <td>0.988797</td>\n",
       "      <td>(135.4, 151.3]</td>\n",
       "      <td>57</td>\n",
       "      <td>1385.142305</td>\n",
       "      <td>1</td>\n",
       "      <td>False</td>\n",
       "      <td>61</td>\n",
       "    </tr>\n",
       "    <tr>\n",
       "      <th>1</th>\n",
       "      <td>Florence</td>\n",
       "      <td>center</td>\n",
       "      <td>urban</td>\n",
       "      <td>92</td>\n",
       "      <td>3</td>\n",
       "      <td>2</td>\n",
       "      <td>1987</td>\n",
       "      <td>1</td>\n",
       "      <td>9</td>\n",
       "      <td>1</td>\n",
       "      <td>...</td>\n",
       "      <td>30.666667</td>\n",
       "      <td>1.2</td>\n",
       "      <td>3</td>\n",
       "      <td>0.431235</td>\n",
       "      <td>(87.7, 103.6]</td>\n",
       "      <td>45</td>\n",
       "      <td>1100.792305</td>\n",
       "      <td>1</td>\n",
       "      <td>False</td>\n",
       "      <td>38</td>\n",
       "    </tr>\n",
       "    <tr>\n",
       "      <th>2</th>\n",
       "      <td>Naples</td>\n",
       "      <td>south</td>\n",
       "      <td>urban</td>\n",
       "      <td>54</td>\n",
       "      <td>4</td>\n",
       "      <td>3</td>\n",
       "      <td>2013</td>\n",
       "      <td>0</td>\n",
       "      <td>3</td>\n",
       "      <td>0</td>\n",
       "      <td>...</td>\n",
       "      <td>13.500000</td>\n",
       "      <td>1.2</td>\n",
       "      <td>1</td>\n",
       "      <td>0.633951</td>\n",
       "      <td>(39.841, 55.9]</td>\n",
       "      <td>44</td>\n",
       "      <td>1069.408971</td>\n",
       "      <td>1</td>\n",
       "      <td>False</td>\n",
       "      <td>12</td>\n",
       "    </tr>\n",
       "    <tr>\n",
       "      <th>3</th>\n",
       "      <td>Trieste</td>\n",
       "      <td>northeast</td>\n",
       "      <td>semiurban</td>\n",
       "      <td>129</td>\n",
       "      <td>6</td>\n",
       "      <td>2</td>\n",
       "      <td>2009</td>\n",
       "      <td>3</td>\n",
       "      <td>8</td>\n",
       "      <td>1</td>\n",
       "      <td>...</td>\n",
       "      <td>21.500000</td>\n",
       "      <td>1.0</td>\n",
       "      <td>3</td>\n",
       "      <td>1.369051</td>\n",
       "      <td>(119.5, 135.4]</td>\n",
       "      <td>22</td>\n",
       "      <td>547.325638</td>\n",
       "      <td>1</td>\n",
       "      <td>False</td>\n",
       "      <td>16</td>\n",
       "    </tr>\n",
       "    <tr>\n",
       "      <th>4</th>\n",
       "      <td>Turin</td>\n",
       "      <td>north</td>\n",
       "      <td>urban</td>\n",
       "      <td>43</td>\n",
       "      <td>6</td>\n",
       "      <td>3</td>\n",
       "      <td>1967</td>\n",
       "      <td>1</td>\n",
       "      <td>5</td>\n",
       "      <td>1</td>\n",
       "      <td>...</td>\n",
       "      <td>7.166667</td>\n",
       "      <td>1.2</td>\n",
       "      <td>1</td>\n",
       "      <td>0.203781</td>\n",
       "      <td>(39.841, 55.9]</td>\n",
       "      <td>53</td>\n",
       "      <td>1292.708971</td>\n",
       "      <td>-1</td>\n",
       "      <td>True</td>\n",
       "      <td>58</td>\n",
       "    </tr>\n",
       "  </tbody>\n",
       "</table>\n",
       "<p>5 rows × 39 columns</p>\n",
       "</div>"
      ],
      "text/plain": [
       "   location     region urban_type  size_m2  rooms  bathrooms  year_built  \\\n",
       "0   Catania      south  semiurban      142      5          1        1964   \n",
       "1  Florence     center      urban       92      3          2        1987   \n",
       "2    Naples      south      urban       54      4          3        2013   \n",
       "3   Trieste  northeast  semiurban      129      6          2        2009   \n",
       "4     Turin      north      urban       43      6          3        1967   \n",
       "\n",
       "   floor  building_floors  has_elevator  ...  avg_room_size  location_premium  \\\n",
       "0      2                7             1  ...      28.400000               1.0   \n",
       "1      1                9             1  ...      30.666667               1.2   \n",
       "2      0                3             0  ...      13.500000               1.2   \n",
       "3      3                8             1  ...      21.500000               1.0   \n",
       "4      1                5             1  ...       7.166667               1.2   \n",
       "\n",
       "   amenity_count  price_vs_region_avg        size_bin  \\\n",
       "0              3             0.988797  (135.4, 151.3]   \n",
       "1              3             0.431235   (87.7, 103.6]   \n",
       "2              1             0.633951  (39.841, 55.9]   \n",
       "3              3             1.369051  (119.5, 135.4]   \n",
       "4              1             0.203781  (39.841, 55.9]   \n",
       "\n",
       "   days_since_verification hours_since_verification  anomaly_score  \\\n",
       "0                       57              1385.142305              1   \n",
       "1                       45              1100.792305              1   \n",
       "2                       44              1069.408971              1   \n",
       "3                       22               547.325638              1   \n",
       "4                       53              1292.708971             -1   \n",
       "\n",
       "   anomaly_flag  age_years  \n",
       "0         False         61  \n",
       "1         False         38  \n",
       "2         False         12  \n",
       "3         False         16  \n",
       "4          True         58  \n",
       "\n",
       "[5 rows x 39 columns]"
      ]
     },
     "execution_count": 12,
     "metadata": {},
     "output_type": "execute_result"
    }
   ],
   "source": [
    "# Anno corrente per derivare età immobile\n",
    "current_year = datetime.utcnow().year\n",
    "\n",
    "# Correzione naming colonne se necessario\n",
    "if \"year_build\" in df.columns and \"year_built\" not in df.columns:\n",
    "    df = df.rename(columns={\"year_build\": \"year_built\"})\n",
    "\n",
    "# Calcolo età se mancante\n",
    "if \"age_years\" not in df.columns and \"year_built\" in df.columns:\n",
    "    df[\"age_years\"] = current_year - df[\"year_built\"]\n",
    "\n",
    "# Aggiungila alle feature numeriche se presente\n",
    "if \"age_years\" in df.columns and \"age_years\" not in cfg[\"numeric\"]:\n",
    "    cfg[\"numeric\"].append(\"age_years\")\n",
    "\n",
    "# Pulizia finale delle colonne exclude\n",
    "df = df.drop(columns=[col for col in cfg[\"exclude\"] if col in df.columns])\n",
    "\n",
    "if \"year_built\" in df.columns:\n",
    "    current_year = datetime.utcnow().year\n",
    "    df[\"age_years\"] = current_year - df[\"year_built\"]\n",
    "\n",
    "logging.info(f\"✅ Dataset ready | Shape: {df.shape}\")\n",
    "df.head()"
   ]
  },
  {
   "cell_type": "markdown",
   "id": "fcdd9da4-99c6-42a0-9bb3-575d54a25cc9",
   "metadata": {},
   "source": [
    "## 04. Sanity checks"
   ]
  },
  {
   "cell_type": "code",
   "execution_count": 13,
   "id": "69b68095-70f4-4b5d-ad0d-7b47ba5f9b7a",
   "metadata": {},
   "outputs": [
    {
     "name": "stderr",
     "output_type": "stream",
     "text": [
      "2025-07-29 04:03:44,902 [INFO] 📊 FEATURE SELECTION OVERVIEW\n",
      "2025-07-29 04:03:44,903 [INFO] 🎯 Target: valuation_k\n",
      "2025-07-29 04:03:44,904 [INFO] 🧩 Categorical: ['energy_class', 'garage', 'has_balcony', 'has_elevator', 'has_garden', 'location', 'owner_occupied', 'public_transport_nearby']\n",
      "2025-07-29 04:03:44,905 [INFO] 📐 Numeric: ['age_years', 'air_quality_index', 'bathrooms', 'building_floors', 'distance_to_center_km', 'env_score', 'floor', 'humidity_level', 'luxury_score', 'noise_level', 'rooms', 'size_m2', 'temperature_avg', 'year_built']\n",
      "2025-07-29 04:03:44,906 [INFO] 🚫 Excluded: ['asset_id', 'asset_type', 'condition_score', 'risk_score', 'prediction_ts', 'age_years', 'age_category', 'luxury_category', 'value_segment', 'timestamp']\n",
      "2025-07-29 04:03:44,907 [INFO] ✅ Feature pool: ['location', 'region', 'urban_type', 'size_m2', 'rooms', 'bathrooms', 'year_built', 'floor', 'building_floors', 'has_elevator', 'has_garden', 'has_balcony', 'garage', 'owner_occupied', 'public_transport_nearby', 'distance_to_center_km', 'energy_class', 'humidity_level', 'temperature_avg', 'noise_level', 'air_quality_index', 'luxury_score', 'env_score', 'last_verified_ts', 'quarter_built', 'decade_built', 'rooms_per_sqm', 'bathrooms_per_room', 'avg_room_size', 'location_premium', 'amenity_count', 'price_vs_region_avg', 'size_bin', 'days_since_verification', 'hours_since_verification', 'anomaly_score', 'anomaly_flag']\n"
     ]
    }
   ],
   "source": [
    "# Verifica che tutte le colonne richieste siano presenti\n",
    "required_base = list(set([cfg[\"target\"]] + cfg[\"categorical\"] + cfg[\"numeric\"]))\n",
    "missing = [col for col in required_base if col not in df.columns]\n",
    "if missing:\n",
    "    raise ValueError(f\"❌ Missing required columns: {missing}\")\n",
    "\n",
    "# Rimozione duplicati eventuali\n",
    "cfg[\"categorical\"] = sorted(set(cfg[\"categorical\"]))\n",
    "cfg[\"numeric\"] = sorted(set(cfg[\"numeric\"]))\n",
    "\n",
    "# Filtro automatico delle feature non presenti nel dataset\n",
    "cfg[\"numeric\"] = [col for col in cfg[\"numeric\"] if col in df.columns]\n",
    "cfg[\"categorical\"] = [col for col in cfg[\"categorical\"] if col in df.columns]\n",
    "\n",
    "# Determina le colonne usabili come feature\n",
    "excluded = set(cfg[\"exclude\"] + [cfg[\"target\"]])\n",
    "feature_candidates = [col for col in df.columns if col not in excluded]\n",
    "\n",
    "# Logging dettagliato\n",
    "logging.info(\"📊 FEATURE SELECTION OVERVIEW\")\n",
    "logging.info(f\"🎯 Target: {cfg['target']}\")\n",
    "logging.info(f\"🧩 Categorical: {cfg['categorical']}\")\n",
    "logging.info(f\"📐 Numeric: {cfg['numeric']}\")\n",
    "logging.info(f\"🚫 Excluded: {cfg['exclude']}\")\n",
    "logging.info(f\"✅ Feature pool: {feature_candidates}\")"
   ]
  },
  {
   "cell_type": "markdown",
   "id": "f60aec06-522b-4e18-ad3b-71c1f0e62d1b",
   "metadata": {},
   "source": [
    "## 05. Overfitting check"
   ]
  },
  {
   "cell_type": "code",
   "execution_count": 21,
   "id": "3379aac2-ab77-48cc-a77d-693a20d1104c",
   "metadata": {},
   "outputs": [],
   "source": [
    "def comprehensive_overfitting_check(pipeline, X_train, X_test, y_train, y_test):\n",
    "    \"\"\"\n",
    "    Analisi completa dell'overfitting tramite MAE su training, test e cross-validation.\n",
    "    \"\"\"\n",
    "    y_train_pred = pipeline.predict(X_train)\n",
    "    y_test_pred = pipeline.predict(X_test)\n",
    "\n",
    "    train_mae = mean_absolute_error(y_train, y_train_pred)\n",
    "    test_mae = mean_absolute_error(y_test, y_test_pred)\n",
    "\n",
    "    cv_scores = cross_val_score(\n",
    "        pipeline, X_train, y_train,\n",
    "        cv=5,\n",
    "        scoring=\"neg_mean_absolute_error\",\n",
    "        n_jobs=-1  # 🔁 sfrutta il parallelismo\n",
    "    )\n",
    "    cv_mae = -cv_scores.mean()\n",
    "    cv_std = cv_scores.std()\n",
    "\n",
    "    logging.info(\"\\n🔍 OVERFITTING ANALYSIS\")\n",
    "    logging.info(\"=\" * 50)\n",
    "    logging.info(f\"Training MAE: {train_mae:.2f}\")\n",
    "    logging.info(f\"CV MAE:       {cv_mae:.2f} ± {cv_std:.2f}\")\n",
    "    logging.info(f\"Test MAE:     {test_mae:.2f}\")\n",
    "\n",
    "    if train_mae < cv_mae * 0.5:\n",
    "        logging.warning(\"❌ SEVERE OVERFITTING: Train MAE << CV MAE\")\n",
    "    if test_mae > cv_mae * 2:\n",
    "        logging.warning(\"❌ POOR GENERALIZATION: Test MAE >> CV MAE\")\n",
    "\n",
    "    return {\"train\": train_mae, \"cv\": cv_mae, \"test\": test_mae}"
   ]
  },
  {
   "cell_type": "markdown",
   "id": "0c915f13-189c-4380-9c72-a30680dfdd1b",
   "metadata": {},
   "source": [
    "## 06. Final feature list = categorical + numeric"
   ]
  },
  {
   "cell_type": "code",
   "execution_count": 22,
   "id": "dd171f89-0d87-4a14-b26a-3e39db97ebec",
   "metadata": {},
   "outputs": [
    {
     "name": "stderr",
     "output_type": "stream",
     "text": [
      "2025-07-29 04:04:42,057 [INFO] 🧮 Final feature list: ['energy_class', 'garage', 'has_balcony', 'has_elevator', 'has_garden', 'location', 'owner_occupied', 'public_transport_nearby', 'age_years', 'air_quality_index', 'bathrooms', 'building_floors', 'distance_to_center_km', 'env_score', 'floor', 'humidity_level', 'luxury_score', 'noise_level', 'rooms', 'size_m2', 'temperature_avg', 'year_built']\n"
     ]
    }
   ],
   "source": [
    "feature_list = cfg[\"categorical\"] + cfg[\"numeric\"]\n",
    "logging.info(f\"🧮 Final feature list: {feature_list}\")\n",
    "\n",
    "X = df[feature_list].copy()\n",
    "y = df[cfg[\"target\"]].copy()"
   ]
  },
  {
   "cell_type": "markdown",
   "id": "f9fdc4b9-98c5-43ac-9804-13c954b02c63",
   "metadata": {},
   "source": [
    "## 07. Train/test split"
   ]
  },
  {
   "cell_type": "code",
   "execution_count": 23,
   "id": "91aed31d-f657-4b2e-a37a-5bf3a588b6f3",
   "metadata": {},
   "outputs": [],
   "source": [
    "X_train, X_test, y_train, y_test = train_test_split(\n",
    "    X, y, test_size=0.20, random_state=RANDOM_STATE\n",
    ")\n",
    "\n",
    "# Allineamento categorie\n",
    "for col in X_train.select_dtypes(include=\"object\").columns:\n",
    "    all_categories = pd.Series(pd.concat([X_train[col], X_test[col]])).astype(\"category\").cat.categories\n",
    "    X_train[col] = X_train[col].astype(\"category\").cat.set_categories(all_categories)\n",
    "    X_test[col] = X_test[col].astype(\"category\").cat.set_categories(all_categories)"
   ]
  },
  {
   "cell_type": "markdown",
   "id": "279cc11f-e303-48de-92c6-d38c9ec38bf1",
   "metadata": {},
   "source": [
    "## 08. Preprocessing + Tuning"
   ]
  },
  {
   "cell_type": "code",
   "execution_count": 24,
   "id": "de9c6c54-9cfc-4c43-8cb6-721f5066387c",
   "metadata": {},
   "outputs": [
    {
     "data": {
      "text/plain": [
       "(0        Catania\n",
       " 1       Florence\n",
       " 2         Naples\n",
       " 3        Trieste\n",
       " 4          Turin\n",
       "           ...   \n",
       " 4924    Cagliari\n",
       " 4925      Naples\n",
       " 4926       Milan\n",
       " 4927    Cagliari\n",
       " 4928       Turin\n",
       " Name: location, Length: 4929, dtype: object,\n",
       " 0       F\n",
       " 1       E\n",
       " 2       G\n",
       " 3       C\n",
       " 4       E\n",
       "        ..\n",
       " 4924    D\n",
       " 4925    A\n",
       " 4926    B\n",
       " 4927    C\n",
       " 4928    D\n",
       " Name: energy_class, Length: 4929, dtype: object)"
      ]
     },
     "execution_count": 24,
     "metadata": {},
     "output_type": "execute_result"
    }
   ],
   "source": [
    "df['last_verified_ts']\n",
    "df['location'], df['energy_class']"
   ]
  },
  {
   "cell_type": "code",
   "execution_count": 35,
   "id": "804b1295-39ed-4817-b174-162013df79c9",
   "metadata": {},
   "outputs": [],
   "source": [
    "df['location_energy_class'] = (\n",
    "    df['location'].astype(str) + \"_\" + df['energy_class'].astype(str)\n",
    ")\n",
    "\n",
    "assert \"last_verified_ts\" in df.columns, \"❌ Manca last_verified_ts\"\n",
    "assert \"valuation_k\" in df.columns, \"❌ Manca valuation_k\"\n",
    "\n",
    "X_full = df.drop(columns=[\"valuation_k\"])\n",
    "y_full = df[\"valuation_k\"]\n",
    "\n",
    "feature_cols = [c for c in df.columns \n",
    "                if c not in ['valuation_k', 'asset_id', 'timestamp',\n",
    "                             'last_verified_ts', 'location_energy_class']]\n",
    "\n",
    "X_full = df[feature_cols]\n",
    "y_full = df['valuation_k']"
   ]
  },
  {
   "cell_type": "code",
   "execution_count": 36,
   "id": "9348895b-c1a5-4959-b50a-2fcba08c188b",
   "metadata": {
    "collapsed": true,
    "jupyter": {
     "outputs_hidden": true
    }
   },
   "outputs": [
    {
     "name": "stderr",
     "output_type": "stream",
     "text": [
      "2025-07-29 04:07:41,668 [INFO] [TS] Fold0 → Train: (824, 37), Valid: (821, 37)\n",
      "2025-07-29 04:07:41,691 [INFO] 🧩 Preprocessed shapes → Tune: (824, 47), Valid: (821, 47)\n",
      "[I 2025-07-29 04:07:41,695] A new study created in memory with name: no-name-c30caad1-ac73-4235-a08b-62a98712e2a7\n",
      "[I 2025-07-29 04:07:41,823] Trial 0 finished with value: 0.2476847809910728 and parameters: {'num_leaves': 57, 'max_depth': 11, 'min_child_samples': 40, 'feature_fraction': 0.9632200137535002, 'bagging_fraction': 0.662884545833112, 'reg_alpha': 0.6736035290667338, 'reg_lambda': 0.9099226482971987}. Best is trial 0 with value: 0.2476847809910728.\n",
      "[I 2025-07-29 04:07:41,920] Trial 1 finished with value: 0.2469954150206348 and parameters: {'num_leaves': 34, 'max_depth': 6, 'min_child_samples': 45, 'feature_fraction': 0.7203139441616491, 'bagging_fraction': 0.6409521588806163, 'reg_alpha': 0.6805924086387758, 'reg_lambda': 0.6564006805182384}. Best is trial 1 with value: 0.2469954150206348.\n"
     ]
    },
    {
     "name": "stdout",
     "output_type": "stream",
     "text": [
      "Training until validation scores don't improve for 50 rounds\n",
      "Early stopping, best iteration is:\n",
      "[390]\tvalid_0's l1: 0.247685\n",
      "Training until validation scores don't improve for 50 rounds\n",
      "Early stopping, best iteration is:\n",
      "[436]\tvalid_0's l1: 0.246995\n"
     ]
    },
    {
     "name": "stderr",
     "output_type": "stream",
     "text": [
      "[I 2025-07-29 04:07:42,050] Trial 2 finished with value: 0.24849005214976191 and parameters: {'num_leaves': 80, 'max_depth': 5, 'min_child_samples': 46, 'feature_fraction': 0.6657758848984963, 'bagging_fraction': 0.9138857213478009, 'reg_alpha': 0.5112758775000806, 'reg_lambda': 0.675732966829361}. Best is trial 1 with value: 0.2469954150206348.\n"
     ]
    },
    {
     "name": "stdout",
     "output_type": "stream",
     "text": [
      "Training until validation scores don't improve for 50 rounds\n",
      "Early stopping, best iteration is:\n",
      "[496]\tvalid_0's l1: 0.24849\n",
      "Training until validation scores don't improve for 50 rounds\n"
     ]
    },
    {
     "name": "stderr",
     "output_type": "stream",
     "text": [
      "[I 2025-07-29 04:07:42,160] Trial 3 finished with value: 0.24764922499052877 and parameters: {'num_leaves': 36, 'max_depth': 5, 'min_child_samples': 42, 'feature_fraction': 0.8782099490184931, 'bagging_fraction': 0.8398755766487507, 'reg_alpha': 0.1468416057173597, 'reg_lambda': 0.9936887938234209}. Best is trial 1 with value: 0.2469954150206348.\n",
      "[I 2025-07-29 04:07:42,283] Trial 4 finished with value: 0.24738518057474895 and parameters: {'num_leaves': 28, 'max_depth': 11, 'min_child_samples': 28, 'feature_fraction': 0.8733348074741607, 'bagging_fraction': 0.9133119066893418, 'reg_alpha': 0.9095358341948018, 'reg_lambda': 0.08672190357801834}. Best is trial 1 with value: 0.2469954150206348.\n"
     ]
    },
    {
     "name": "stdout",
     "output_type": "stream",
     "text": [
      "Early stopping, best iteration is:\n",
      "[385]\tvalid_0's l1: 0.247649\n",
      "Training until validation scores don't improve for 50 rounds\n",
      "Early stopping, best iteration is:\n",
      "[426]\tvalid_0's l1: 0.247385\n",
      "Training until validation scores don't improve for 50 rounds\n"
     ]
    },
    {
     "name": "stderr",
     "output_type": "stream",
     "text": [
      "[I 2025-07-29 04:07:42,388] Trial 5 finished with value: 0.2480049015505455 and parameters: {'num_leaves': 39, 'max_depth': 5, 'min_child_samples': 26, 'feature_fraction': 0.9503837168628211, 'bagging_fraction': 0.7875284927873152, 'reg_alpha': 0.16978365977519205, 'reg_lambda': 0.4990872688566105}. Best is trial 1 with value: 0.2469954150206348.\n",
      "[I 2025-07-29 04:07:42,517] Trial 6 finished with value: 0.24847043868460725 and parameters: {'num_leaves': 48, 'max_depth': 12, 'min_child_samples': 48, 'feature_fraction': 0.6054583934370051, 'bagging_fraction': 0.8337809783793528, 'reg_alpha': 0.0873225445721475, 'reg_lambda': 0.751387596326165}. Best is trial 1 with value: 0.2469954150206348.\n"
     ]
    },
    {
     "name": "stdout",
     "output_type": "stream",
     "text": [
      "Early stopping, best iteration is:\n",
      "[280]\tvalid_0's l1: 0.248005\n",
      "Training until validation scores don't improve for 50 rounds\n",
      "Early stopping, best iteration is:\n",
      "[495]\tvalid_0's l1: 0.24847\n",
      "Training until validation scores don't improve for 50 rounds\n"
     ]
    },
    {
     "name": "stderr",
     "output_type": "stream",
     "text": [
      "[I 2025-07-29 04:07:42,628] Trial 7 finished with value: 0.2468690292631718 and parameters: {'num_leaves': 42, 'max_depth': 7, 'min_child_samples': 45, 'feature_fraction': 0.832758950361306, 'bagging_fraction': 0.7853854683014059, 'reg_alpha': 0.8476018594717105, 'reg_lambda': 0.4686250348523542}. Best is trial 7 with value: 0.2468690292631718.\n",
      "[I 2025-07-29 04:07:42,740] Trial 8 finished with value: 0.24764463728498892 and parameters: {'num_leaves': 28, 'max_depth': 10, 'min_child_samples': 24, 'feature_fraction': 0.8084873278046519, 'bagging_fraction': 0.9277878915539458, 'reg_alpha': 0.5376458350602739, 'reg_lambda': 0.8423482275917682}. Best is trial 7 with value: 0.2468690292631718.\n"
     ]
    },
    {
     "name": "stdout",
     "output_type": "stream",
     "text": [
      "Early stopping, best iteration is:\n",
      "[430]\tvalid_0's l1: 0.246869\n",
      "Training until validation scores don't improve for 50 rounds\n",
      "Early stopping, best iteration is:\n",
      "[410]\tvalid_0's l1: 0.247645\n",
      "Training until validation scores don't improve for 50 rounds\n",
      "Early stopping, best iteration is:\n",
      "[498]\tvalid_0's l1: 0.248095\n"
     ]
    },
    {
     "name": "stderr",
     "output_type": "stream",
     "text": [
      "[I 2025-07-29 04:07:42,851] Trial 9 finished with value: 0.24809512265847716 and parameters: {'num_leaves': 26, 'max_depth': 5, 'min_child_samples': 29, 'feature_fraction': 0.6078919804696167, 'bagging_fraction': 0.6071284398933998, 'reg_alpha': 0.7493680316024376, 'reg_lambda': 0.6533643995495}. Best is trial 7 with value: 0.2468690292631718.\n",
      "[I 2025-07-29 04:07:42,990] Trial 10 finished with value: 0.2466829261766562 and parameters: {'num_leaves': 65, 'max_depth': 8, 'min_child_samples': 11, 'feature_fraction': 0.764856926498117, 'bagging_fraction': 0.736981332110897, 'reg_alpha': 0.9582929139363302, 'reg_lambda': 0.3161485316635632}. Best is trial 10 with value: 0.2466829261766562.\n"
     ]
    },
    {
     "name": "stdout",
     "output_type": "stream",
     "text": [
      "Training until validation scores don't improve for 50 rounds\n",
      "Early stopping, best iteration is:\n",
      "[426]\tvalid_0's l1: 0.246683\n",
      "Training until validation scores don't improve for 50 rounds\n"
     ]
    },
    {
     "name": "stderr",
     "output_type": "stream",
     "text": [
      "[I 2025-07-29 04:07:43,132] Trial 11 finished with value: 0.24682740055479746 and parameters: {'num_leaves': 66, 'max_depth': 8, 'min_child_samples': 11, 'feature_fraction': 0.7655141542449156, 'bagging_fraction': 0.737917523824195, 'reg_alpha': 0.9201398270228912, 'reg_lambda': 0.30347503435870476}. Best is trial 10 with value: 0.2466829261766562.\n",
      "[I 2025-07-29 04:07:43,266] Trial 12 finished with value: 0.24699357022321256 and parameters: {'num_leaves': 66, 'max_depth': 9, 'min_child_samples': 10, 'feature_fraction': 0.7448117376157868, 'bagging_fraction': 0.7109572283594315, 'reg_alpha': 0.9898190761458562, 'reg_lambda': 0.24355644228064421}. Best is trial 10 with value: 0.2466829261766562.\n"
     ]
    },
    {
     "name": "stdout",
     "output_type": "stream",
     "text": [
      "Early stopping, best iteration is:\n",
      "[427]\tvalid_0's l1: 0.246827\n",
      "Training until validation scores don't improve for 50 rounds\n",
      "Early stopping, best iteration is:\n",
      "[430]\tvalid_0's l1: 0.246994\n",
      "Training until validation scores don't improve for 50 rounds\n"
     ]
    },
    {
     "name": "stderr",
     "output_type": "stream",
     "text": [
      "[I 2025-07-29 04:07:43,413] Trial 13 finished with value: 0.24719661602293197 and parameters: {'num_leaves': 67, 'max_depth': 8, 'min_child_samples': 10, 'feature_fraction': 0.7369310156988321, 'bagging_fraction': 0.7256522480435832, 'reg_alpha': 0.3244552048431986, 'reg_lambda': 0.30776056922726475}. Best is trial 10 with value: 0.2466829261766562.\n",
      "[I 2025-07-29 04:07:43,549] Trial 14 finished with value: 0.24659913306356998 and parameters: {'num_leaves': 75, 'max_depth': 8, 'min_child_samples': 18, 'feature_fraction': 0.7742141212319175, 'bagging_fraction': 0.7286137334163374, 'reg_alpha': 0.834072008572911, 'reg_lambda': 0.31281285274477255}. Best is trial 14 with value: 0.24659913306356998.\n"
     ]
    },
    {
     "name": "stdout",
     "output_type": "stream",
     "text": [
      "Early stopping, best iteration is:\n",
      "[427]\tvalid_0's l1: 0.247197\n",
      "Training until validation scores don't improve for 50 rounds\n",
      "Early stopping, best iteration is:\n",
      "[425]\tvalid_0's l1: 0.246599\n",
      "Training until validation scores don't improve for 50 rounds\n"
     ]
    },
    {
     "name": "stderr",
     "output_type": "stream",
     "text": [
      "[I 2025-07-29 04:07:43,693] Trial 15 finished with value: 0.24728966289647514 and parameters: {'num_leaves': 80, 'max_depth': 7, 'min_child_samples': 18, 'feature_fraction': 0.6924556843886208, 'bagging_fraction': 0.6921551125952046, 'reg_alpha': 0.7828290470035159, 'reg_lambda': 0.041922763858802725}. Best is trial 14 with value: 0.24659913306356998.\n",
      "[I 2025-07-29 04:07:43,834] Trial 16 finished with value: 0.2475217151223364 and parameters: {'num_leaves': 72, 'max_depth': 9, 'min_child_samples': 18, 'feature_fraction': 0.8493383089395002, 'bagging_fraction': 0.7730899701441319, 'reg_alpha': 0.6132537869626907, 'reg_lambda': 0.18875856458509582}. Best is trial 14 with value: 0.24659913306356998.\n"
     ]
    },
    {
     "name": "stdout",
     "output_type": "stream",
     "text": [
      "Early stopping, best iteration is:\n",
      "[435]\tvalid_0's l1: 0.24729\n",
      "Training until validation scores don't improve for 50 rounds\n",
      "Early stopping, best iteration is:\n",
      "[410]\tvalid_0's l1: 0.247522\n"
     ]
    },
    {
     "name": "stderr",
     "output_type": "stream",
     "text": [
      "[I 2025-07-29 04:07:44,090] Trial 17 finished with value: 0.24759781177307655 and parameters: {'num_leaves': 57, 'max_depth': 7, 'min_child_samples': 17, 'feature_fraction': 0.781647353484398, 'bagging_fraction': 0.8692011890582744, 'reg_alpha': 0.39699296733011813, 'reg_lambda': 0.457137169666378}. Best is trial 14 with value: 0.24659913306356998.\n"
     ]
    },
    {
     "name": "stdout",
     "output_type": "stream",
     "text": [
      "Training until validation scores don't improve for 50 rounds\n",
      "Early stopping, best iteration is:\n",
      "[426]\tvalid_0's l1: 0.247598\n",
      "Training until validation scores don't improve for 50 rounds\n"
     ]
    },
    {
     "name": "stderr",
     "output_type": "stream",
     "text": [
      "[I 2025-07-29 04:07:44,243] Trial 18 finished with value: 0.24701967812201778 and parameters: {'num_leaves': 57, 'max_depth': 9, 'min_child_samples': 22, 'feature_fraction': 0.9164116362460639, 'bagging_fraction': 0.7425522670446023, 'reg_alpha': 0.9784758855510762, 'reg_lambda': 0.38625880533264645}. Best is trial 14 with value: 0.24659913306356998.\n",
      "[I 2025-07-29 04:07:44,411] Trial 19 finished with value: 0.24708301774877373 and parameters: {'num_leaves': 74, 'max_depth': 4, 'min_child_samples': 36, 'feature_fraction': 0.6642444002060519, 'bagging_fraction': 0.671851194805522, 'reg_alpha': 0.8219586256826659, 'reg_lambda': 0.18068136083682135}. Best is trial 14 with value: 0.24659913306356998.\n"
     ]
    },
    {
     "name": "stdout",
     "output_type": "stream",
     "text": [
      "Early stopping, best iteration is:\n",
      "[410]\tvalid_0's l1: 0.24702\n",
      "Training until validation scores don't improve for 50 rounds\n",
      "Early stopping, best iteration is:\n",
      "[479]\tvalid_0's l1: 0.247083\n"
     ]
    },
    {
     "name": "stderr",
     "output_type": "stream",
     "text": [
      "[I 2025-07-29 04:07:44,559] Trial 20 finished with value: 0.2484347907111348 and parameters: {'num_leaves': 62, 'max_depth': 8, 'min_child_samples': 15, 'feature_fraction': 0.8207818605889985, 'bagging_fraction': 0.9840239839438782, 'reg_alpha': 0.882800331622982, 'reg_lambda': 0.364836163792268}. Best is trial 14 with value: 0.24659913306356998.\n"
     ]
    },
    {
     "name": "stdout",
     "output_type": "stream",
     "text": [
      "Training until validation scores don't improve for 50 rounds\n",
      "Early stopping, best iteration is:\n",
      "[436]\tvalid_0's l1: 0.248435\n",
      "Training until validation scores don't improve for 50 rounds\n"
     ]
    },
    {
     "name": "stderr",
     "output_type": "stream",
     "text": [
      "[I 2025-07-29 04:07:44,701] Trial 21 finished with value: 0.24693878942139516 and parameters: {'num_leaves': 72, 'max_depth': 8, 'min_child_samples': 13, 'feature_fraction': 0.7728683500476976, 'bagging_fraction': 0.752190024054567, 'reg_alpha': 0.9933530803568948, 'reg_lambda': 0.3063619858023318}. Best is trial 14 with value: 0.24659913306356998.\n",
      "[I 2025-07-29 04:07:44,854] Trial 22 finished with value: 0.24659425575340446 and parameters: {'num_leaves': 66, 'max_depth': 8, 'min_child_samples': 21, 'feature_fraction': 0.7669727920890986, 'bagging_fraction': 0.8196563842794397, 'reg_alpha': 0.8999207673880418, 'reg_lambda': 0.13699053595992783}. Best is trial 22 with value: 0.24659425575340446.\n"
     ]
    },
    {
     "name": "stdout",
     "output_type": "stream",
     "text": [
      "Early stopping, best iteration is:\n",
      "[430]\tvalid_0's l1: 0.246939\n",
      "Training until validation scores don't improve for 50 rounds\n",
      "Early stopping, best iteration is:\n",
      "[474]\tvalid_0's l1: 0.246594\n"
     ]
    },
    {
     "name": "stderr",
     "output_type": "stream",
     "text": [
      "[I 2025-07-29 04:07:45,024] Trial 23 finished with value: 0.24720857985617437 and parameters: {'num_leaves': 49, 'max_depth': 10, 'min_child_samples': 22, 'feature_fraction': 0.7040066563268225, 'bagging_fraction': 0.8260166507502124, 'reg_alpha': 0.7484440607907716, 'reg_lambda': 0.12875066370766192}. Best is trial 22 with value: 0.24659425575340446.\n"
     ]
    },
    {
     "name": "stdout",
     "output_type": "stream",
     "text": [
      "Training until validation scores don't improve for 50 rounds\n",
      "Early stopping, best iteration is:\n",
      "[425]\tvalid_0's l1: 0.247209\n",
      "Training until validation scores don't improve for 50 rounds\n"
     ]
    },
    {
     "name": "stderr",
     "output_type": "stream",
     "text": [
      "[I 2025-07-29 04:07:45,208] Trial 24 finished with value: 0.24690280344974347 and parameters: {'num_leaves': 75, 'max_depth': 7, 'min_child_samples': 20, 'feature_fraction': 0.8029942365705085, 'bagging_fraction': 0.8075270651043992, 'reg_alpha': 0.8501105511682202, 'reg_lambda': 0.031703300418532976}. Best is trial 22 with value: 0.24659425575340446.\n",
      "[I 2025-07-29 04:07:45,373] Trial 25 finished with value: 0.24736301523010054 and parameters: {'num_leaves': 61, 'max_depth': 6, 'min_child_samples': 34, 'feature_fraction': 0.7535697982213104, 'bagging_fraction': 0.7656650364588873, 'reg_alpha': 0.669996380134645, 'reg_lambda': 0.2228625626358988}. Best is trial 22 with value: 0.24659425575340446.\n"
     ]
    },
    {
     "name": "stdout",
     "output_type": "stream",
     "text": [
      "Early stopping, best iteration is:\n",
      "[410]\tvalid_0's l1: 0.246903\n",
      "Training until validation scores don't improve for 50 rounds\n",
      "Early stopping, best iteration is:\n",
      "[427]\tvalid_0's l1: 0.247363\n"
     ]
    },
    {
     "name": "stderr",
     "output_type": "stream",
     "text": [
      "[I 2025-07-29 04:07:45,518] Trial 26 finished with value: 0.24755242043620182 and parameters: {'num_leaves': 69, 'max_depth': 9, 'min_child_samples': 14, 'feature_fraction': 0.7877063629580583, 'bagging_fraction': 0.8678219325414042, 'reg_alpha': 0.9244984616607373, 'reg_lambda': 0.557140108455247}. Best is trial 22 with value: 0.24659425575340446.\n"
     ]
    },
    {
     "name": "stdout",
     "output_type": "stream",
     "text": [
      "Training until validation scores don't improve for 50 rounds\n",
      "Early stopping, best iteration is:\n",
      "[427]\tvalid_0's l1: 0.247552\n",
      "Training until validation scores don't improve for 50 rounds\n"
     ]
    },
    {
     "name": "stderr",
     "output_type": "stream",
     "text": [
      "[I 2025-07-29 04:07:45,663] Trial 27 finished with value: 0.24763877565544895 and parameters: {'num_leaves': 62, 'max_depth': 10, 'min_child_samples': 32, 'feature_fraction': 0.672825073429002, 'bagging_fraction': 0.6931674820997556, 'reg_alpha': 0.5880452967033252, 'reg_lambda': 0.11477790923840353}. Best is trial 22 with value: 0.24659425575340446.\n",
      "[I 2025-07-29 04:07:45,825] Trial 28 finished with value: 0.24731785916469715 and parameters: {'num_leaves': 77, 'max_depth': 6, 'min_child_samples': 16, 'feature_fraction': 0.8635984111337593, 'bagging_fraction': 0.8731384844764828, 'reg_alpha': 0.4290271447281502, 'reg_lambda': 0.38458217728551086}. Best is trial 22 with value: 0.24659425575340446.\n"
     ]
    },
    {
     "name": "stdout",
     "output_type": "stream",
     "text": [
      "Early stopping, best iteration is:\n",
      "[435]\tvalid_0's l1: 0.247639\n",
      "Training until validation scores don't improve for 50 rounds\n",
      "Early stopping, best iteration is:\n",
      "[430]\tvalid_0's l1: 0.247318\n"
     ]
    },
    {
     "name": "stderr",
     "output_type": "stream",
     "text": [
      "[I 2025-07-29 04:07:45,988] Trial 29 finished with value: 0.24710778905156722 and parameters: {'num_leaves': 20, 'max_depth': 8, 'min_child_samples': 21, 'feature_fraction': 0.9050335599586807, 'bagging_fraction': 0.6321473592102917, 'reg_alpha': 0.709956616620508, 'reg_lambda': 0.5684017915233728}. Best is trial 22 with value: 0.24659425575340446.\n"
     ]
    },
    {
     "name": "stdout",
     "output_type": "stream",
     "text": [
      "Training until validation scores don't improve for 50 rounds\n",
      "Early stopping, best iteration is:\n",
      "[390]\tvalid_0's l1: 0.247108\n",
      "Training until validation scores don't improve for 50 rounds\n"
     ]
    },
    {
     "name": "stderr",
     "output_type": "stream",
     "text": [
      "[I 2025-07-29 04:07:46,146] Trial 30 finished with value: 0.24689204194669262 and parameters: {'num_leaves': 53, 'max_depth': 11, 'min_child_samples': 25, 'feature_fraction': 0.6403633648843536, 'bagging_fraction': 0.8062302068852067, 'reg_alpha': 0.7865570998413902, 'reg_lambda': 0.2608801363275104}. Best is trial 22 with value: 0.24659425575340446.\n",
      "[I 2025-07-29 04:07:46,283] Trial 31 finished with value: 0.24667292831968976 and parameters: {'num_leaves': 66, 'max_depth': 8, 'min_child_samples': 12, 'feature_fraction': 0.751388977732686, 'bagging_fraction': 0.7282008303597617, 'reg_alpha': 0.8831873264393751, 'reg_lambda': 0.33284517330940305}. Best is trial 22 with value: 0.24659425575340446.\n"
     ]
    },
    {
     "name": "stdout",
     "output_type": "stream",
     "text": [
      "Early stopping, best iteration is:\n",
      "[496]\tvalid_0's l1: 0.246892\n",
      "Training until validation scores don't improve for 50 rounds\n",
      "Early stopping, best iteration is:\n",
      "[426]\tvalid_0's l1: 0.246673\n",
      "Training until validation scores don't improve for 50 rounds\n"
     ]
    },
    {
     "name": "stderr",
     "output_type": "stream",
     "text": [
      "[I 2025-07-29 04:07:46,426] Trial 32 finished with value: 0.24713995615959578 and parameters: {'num_leaves': 69, 'max_depth': 7, 'min_child_samples': 12, 'feature_fraction': 0.7217640321282245, 'bagging_fraction': 0.711629347810375, 'reg_alpha': 0.9288383187615551, 'reg_lambda': 0.4159329028836444}. Best is trial 22 with value: 0.24659425575340446.\n",
      "[I 2025-07-29 04:07:46,567] Trial 33 finished with value: 0.24833182545385846 and parameters: {'num_leaves': 53, 'max_depth': 9, 'min_child_samples': 14, 'feature_fraction': 0.9959364487603571, 'bagging_fraction': 0.6640801383719281, 'reg_alpha': 0.8455583578641999, 'reg_lambda': 0.16795319893883898}. Best is trial 22 with value: 0.24659425575340446.\n"
     ]
    },
    {
     "name": "stdout",
     "output_type": "stream",
     "text": [
      "Early stopping, best iteration is:\n",
      "[427]\tvalid_0's l1: 0.24714\n",
      "Training until validation scores don't improve for 50 rounds\n",
      "Early stopping, best iteration is:\n",
      "[375]\tvalid_0's l1: 0.248332\n",
      "Training until validation scores don't improve for 50 rounds\n"
     ]
    },
    {
     "name": "stderr",
     "output_type": "stream",
     "text": [
      "[I 2025-07-29 04:07:46,727] Trial 34 finished with value: 0.24708907449478001 and parameters: {'num_leaves': 58, 'max_depth': 8, 'min_child_samples': 19, 'feature_fraction': 0.728737892789902, 'bagging_fraction': 0.7583576847348423, 'reg_alpha': 0.6668381660177746, 'reg_lambda': 0.3387774036377955}. Best is trial 22 with value: 0.24659425575340446.\n",
      "[I 2025-07-29 04:07:46,869] Trial 35 finished with value: 0.24739633091581822 and parameters: {'num_leaves': 77, 'max_depth': 6, 'min_child_samples': 16, 'feature_fraction': 0.7031191563464219, 'bagging_fraction': 0.6888544027583213, 'reg_alpha': 0.9474957709947447, 'reg_lambda': 0.276081380000601}. Best is trial 22 with value: 0.24659425575340446.\n"
     ]
    },
    {
     "name": "stdout",
     "output_type": "stream",
     "text": [
      "Early stopping, best iteration is:\n",
      "[474]\tvalid_0's l1: 0.247089\n",
      "Training until validation scores don't improve for 50 rounds\n",
      "Early stopping, best iteration is:\n",
      "[435]\tvalid_0's l1: 0.247396\n",
      "Training until validation scores don't improve for 50 rounds\n"
     ]
    },
    {
     "name": "stderr",
     "output_type": "stream",
     "text": [
      "[I 2025-07-29 04:07:47,117] Trial 36 finished with value: 0.24671069333638035 and parameters: {'num_leaves': 64, 'max_depth': 8, 'min_child_samples': 13, 'feature_fraction': 0.7616845947164895, 'bagging_fraction': 0.7262003348729317, 'reg_alpha': 0.871957705630147, 'reg_lambda': 0.5682665357626886}. Best is trial 22 with value: 0.24659425575340446.\n",
      "[I 2025-07-29 04:07:47,252] Trial 37 finished with value: 0.24703827735217268 and parameters: {'num_leaves': 71, 'max_depth': 9, 'min_child_samples': 23, 'feature_fraction': 0.8315426167780808, 'bagging_fraction': 0.6452962948556352, 'reg_alpha': 0.28160890397557614, 'reg_lambda': 0.005381051767053058}. Best is trial 22 with value: 0.24659425575340446.\n"
     ]
    },
    {
     "name": "stdout",
     "output_type": "stream",
     "text": [
      "Early stopping, best iteration is:\n",
      "[427]\tvalid_0's l1: 0.246711\n",
      "Training until validation scores don't improve for 50 rounds\n",
      "Early stopping, best iteration is:\n",
      "[390]\tvalid_0's l1: 0.247038\n",
      "Training until validation scores don't improve for 50 rounds\n"
     ]
    },
    {
     "name": "stderr",
     "output_type": "stream",
     "text": [
      "[I 2025-07-29 04:07:47,393] Trial 38 finished with value: 0.2469409327420593 and parameters: {'num_leaves': 77, 'max_depth': 7, 'min_child_samples': 27, 'feature_fraction': 0.7976422216452665, 'bagging_fraction': 0.7832271659820695, 'reg_alpha': 0.7890686006980133, 'reg_lambda': 0.42446270142528447}. Best is trial 22 with value: 0.24659425575340446.\n",
      "[I 2025-07-29 04:07:47,551] Trial 39 finished with value: 0.24749266699999306 and parameters: {'num_leaves': 43, 'max_depth': 10, 'min_child_samples': 38, 'feature_fraction': 0.7484532994164067, 'bagging_fraction': 0.8512662551151344, 'reg_alpha': 0.02515645983265813, 'reg_lambda': 0.07827251152690645}. Best is trial 22 with value: 0.24659425575340446.\n"
     ]
    },
    {
     "name": "stdout",
     "output_type": "stream",
     "text": [
      "Early stopping, best iteration is:\n",
      "[410]\tvalid_0's l1: 0.246941\n",
      "Training until validation scores don't improve for 50 rounds\n",
      "Early stopping, best iteration is:\n",
      "[387]\tvalid_0's l1: 0.247493\n",
      "Training until validation scores don't improve for 50 rounds\n"
     ]
    },
    {
     "name": "stderr",
     "output_type": "stream",
     "text": [
      "[I 2025-07-29 04:07:47,710] Trial 40 finished with value: 0.24671193323936524 and parameters: {'num_leaves': 59, 'max_depth': 12, 'min_child_samples': 12, 'feature_fraction': 0.7149793225557558, 'bagging_fraction': 0.8206606773165995, 'reg_alpha': 0.713593358959842, 'reg_lambda': 0.5153039654219547}. Best is trial 22 with value: 0.24659425575340446.\n",
      "[I 2025-07-29 04:07:47,850] Trial 41 finished with value: 0.2466931628526095 and parameters: {'num_leaves': 66, 'max_depth': 8, 'min_child_samples': 14, 'feature_fraction': 0.7621704889142266, 'bagging_fraction': 0.7297977328879396, 'reg_alpha': 0.8721383588005752, 'reg_lambda': 0.6208451418457962}. Best is trial 22 with value: 0.24659425575340446.\n"
     ]
    },
    {
     "name": "stdout",
     "output_type": "stream",
     "text": [
      "Early stopping, best iteration is:\n",
      "[495]\tvalid_0's l1: 0.246712\n",
      "Training until validation scores don't improve for 50 rounds\n",
      "Early stopping, best iteration is:\n",
      "[427]\tvalid_0's l1: 0.246693\n",
      "Training until validation scores don't improve for 50 rounds\n"
     ]
    },
    {
     "name": "stderr",
     "output_type": "stream",
     "text": [
      "[I 2025-07-29 04:07:47,988] Trial 42 finished with value: 0.24682954029802825 and parameters: {'num_leaves': 68, 'max_depth': 8, 'min_child_samples': 15, 'feature_fraction': 0.77940486724449, 'bagging_fraction': 0.7157314719650643, 'reg_alpha': 0.8973602998105094, 'reg_lambda': 0.6145218527591908}. Best is trial 22 with value: 0.24659425575340446.\n",
      "[I 2025-07-29 04:07:48,131] Trial 43 finished with value: 0.24650195150628648 and parameters: {'num_leaves': 64, 'max_depth': 7, 'min_child_samples': 19, 'feature_fraction': 0.8198035545203568, 'bagging_fraction': 0.7430085723759272, 'reg_alpha': 0.8133603299484831, 'reg_lambda': 0.7002265382229789}. Best is trial 43 with value: 0.24650195150628648.\n"
     ]
    },
    {
     "name": "stdout",
     "output_type": "stream",
     "text": [
      "Early stopping, best iteration is:\n",
      "[410]\tvalid_0's l1: 0.24683\n",
      "Training until validation scores don't improve for 50 rounds\n",
      "Early stopping, best iteration is:\n",
      "[427]\tvalid_0's l1: 0.246502\n",
      "Training until validation scores don't improve for 50 rounds\n"
     ]
    },
    {
     "name": "stderr",
     "output_type": "stream",
     "text": [
      "[I 2025-07-29 04:07:48,276] Trial 44 finished with value: 0.24718794201233826 and parameters: {'num_leaves': 71, 'max_depth': 7, 'min_child_samples': 20, 'feature_fraction': 0.8489258418032901, 'bagging_fraction': 0.784356523149827, 'reg_alpha': 0.8118667647300329, 'reg_lambda': 0.8558700057885653}. Best is trial 43 with value: 0.24650195150628648.\n",
      "[I 2025-07-29 04:07:48,429] Trial 45 finished with value: 0.24656632998344624 and parameters: {'num_leaves': 64, 'max_depth': 7, 'min_child_samples': 10, 'feature_fraction': 0.8163523746377784, 'bagging_fraction': 0.757111421817907, 'reg_alpha': 0.9534795476189832, 'reg_lambda': 0.9589812772550017}. Best is trial 43 with value: 0.24650195150628648.\n"
     ]
    },
    {
     "name": "stdout",
     "output_type": "stream",
     "text": [
      "Early stopping, best iteration is:\n",
      "[426]\tvalid_0's l1: 0.247188\n",
      "Training until validation scores don't improve for 50 rounds\n",
      "Early stopping, best iteration is:\n",
      "[430]\tvalid_0's l1: 0.246566\n"
     ]
    },
    {
     "name": "stderr",
     "output_type": "stream",
     "text": [
      "[I 2025-07-29 04:07:48,589] Trial 46 finished with value: 0.24663505156750604 and parameters: {'num_leaves': 55, 'max_depth': 6, 'min_child_samples': 30, 'feature_fraction': 0.8166187389343753, 'bagging_fraction': 0.7542700089194556, 'reg_alpha': 0.7469810888702201, 'reg_lambda': 0.9810175392859043}. Best is trial 43 with value: 0.24650195150628648.\n"
     ]
    },
    {
     "name": "stdout",
     "output_type": "stream",
     "text": [
      "Training until validation scores don't improve for 50 rounds\n",
      "Early stopping, best iteration is:\n",
      "[430]\tvalid_0's l1: 0.246635\n",
      "Training until validation scores don't improve for 50 rounds\n"
     ]
    },
    {
     "name": "stderr",
     "output_type": "stream",
     "text": [
      "[I 2025-07-29 04:07:48,751] Trial 47 finished with value: 0.24726159776118065 and parameters: {'num_leaves': 52, 'max_depth': 5, 'min_child_samples': 30, 'feature_fraction': 0.8881664412338852, 'bagging_fraction': 0.8010636932612681, 'reg_alpha': 0.6194721149065167, 'reg_lambda': 0.9900299570569288}. Best is trial 43 with value: 0.24650195150628648.\n",
      "[I 2025-07-29 04:07:48,910] Trial 48 finished with value: 0.24675757423210085 and parameters: {'num_leaves': 55, 'max_depth': 6, 'min_child_samples': 25, 'feature_fraction': 0.8121221211396537, 'bagging_fraction': 0.7675992281441162, 'reg_alpha': 0.7298909382344931, 'reg_lambda': 0.7232345298523324}. Best is trial 43 with value: 0.24650195150628648.\n"
     ]
    },
    {
     "name": "stdout",
     "output_type": "stream",
     "text": [
      "Early stopping, best iteration is:\n",
      "[430]\tvalid_0's l1: 0.247262\n",
      "Training until validation scores don't improve for 50 rounds\n",
      "Early stopping, best iteration is:\n",
      "[411]\tvalid_0's l1: 0.246758\n"
     ]
    },
    {
     "name": "stderr",
     "output_type": "stream",
     "text": [
      "[I 2025-07-29 04:07:49,083] Trial 49 finished with value: 0.2472450723249418 and parameters: {'num_leaves': 60, 'max_depth': 6, 'min_child_samples': 28, 'feature_fraction': 0.8423252187294971, 'bagging_fraction': 0.8397872907000211, 'reg_alpha': 0.7772790860570212, 'reg_lambda': 0.9468544216115357}. Best is trial 43 with value: 0.24650195150628648.\n",
      "2025-07-29 04:07:49,098 [WARNING] ⚠️ Nessuna iterazione valida trovata (best_iteration <= 0).\n",
      "2025-07-29 04:07:49,098 [WARNING] ⚠️ Nessuna iterazione valida: modello non addestrato correttamente.\n",
      "2025-07-29 04:07:49,099 [WARNING] ⚠️ Nessuna metrica trovata in best_model.best_score.\n",
      "2025-07-29 04:07:49,100 [WARNING] ⚠️ best_mae_ts è None, non posso loggare in formato decimale.\n",
      "2025-07-29 04:07:49,101 [INFO] ✅ TS best_iteration: -1\n",
      "2025-07-29 04:07:49,102 [WARNING] ⚠️ best_mae_ts è None, non posso loggare in formato decimale.\n",
      "2025-07-29 04:07:49,103 [INFO] ✅ TS best_iteration: -1\n"
     ]
    },
    {
     "name": "stdout",
     "output_type": "stream",
     "text": [
      "Training until validation scores don't improve for 50 rounds\n",
      "Early stopping, best iteration is:\n",
      "[430]\tvalid_0's l1: 0.247245\n"
     ]
    }
   ],
   "source": [
    "# --- 1) Verifica e filtro colonne per il preprocessing ---\n",
    "missing_cat = [c for c in cfg[\"categorical\"] if c not in X_full.columns]\n",
    "missing_num = [c for c in cfg[\"numeric\"]     if c not in X_full.columns]\n",
    "if missing_cat or missing_num:\n",
    "    logging.warning(f\"Colonne mancanti → categorical: {missing_cat}, numeric: {missing_num}\")\n",
    "\n",
    "categorical_cols = [c for c in cfg[\"categorical\"] if c in X_full.columns]\n",
    "numeric_cols     = [c for c in cfg[\"numeric\"]     if c in X_full.columns]\n",
    "assert categorical_cols or numeric_cols, \"⚠️ Nessuna colonna valida per preprocessing!\"\n",
    "\n",
    "preprocessor = ColumnTransformer([\n",
    "    (\"cat\", OneHotEncoder(handle_unknown=\"ignore\", sparse_output=False), categorical_cols),\n",
    "    (\"num\", \"passthrough\", numeric_cols),\n",
    "])\n",
    "\n",
    "# --- 2) TimeSeriesSplit sul timestamp ---\n",
    "tscv = TimeSeriesSplit(n_splits=5)\n",
    "train_idx, valid_idx = next(tscv.split(X_full, df[\"last_verified_ts\"]))\n",
    "X_tune, X_valid = X_full.iloc[train_idx],  X_full.iloc[valid_idx]\n",
    "y_tune, y_valid = y_full.iloc[train_idx], y_full.iloc[valid_idx]\n",
    "logging.info(f\"[TS] Fold0 → Train: {X_tune.shape}, Valid: {X_valid.shape}\")\n",
    "\n",
    "# --- 3) Fit & transform features ---\n",
    "X_tune_enc  = preprocessor.fit_transform(X_tune)\n",
    "X_valid_enc = preprocessor.transform(X_valid)\n",
    "\n",
    "assert X_tune_enc.shape[0] == y_tune.shape[0],  \"Shape mismatch on training data\"\n",
    "assert X_valid_enc.shape[0] == y_valid.shape[0], \"Shape mismatch on validation data\"\n",
    "logging.info(f\"🧩 Preprocessed shapes → Tune: {X_tune_enc.shape}, Valid: {X_valid_enc.shape}\")\n",
    "\n",
    "# --- 4) Costruzione dataset LightGBM (log1p target) ---\n",
    "y_tune_log  = np.log1p(y_tune)\n",
    "y_valid_log = np.log1p(y_valid)\n",
    "dtrain = lgb.Dataset(data=X_tune_enc,  label=y_tune_log)\n",
    "dvalid = lgb.Dataset(data=X_valid_enc, label=y_valid_log)\n",
    "\n",
    "# --- 5) Parametri base + definizione funzione obiettivo ---\n",
    "best_min_child = 25\n",
    "lgb_params = {\n",
    "    \"objective\":        \"regression\",\n",
    "    \"metric\":           \"mae\",\n",
    "    \"boosting_type\":    \"gbdt\",\n",
    "    \"verbosity\":        -1,\n",
    "    \"seed\":             RANDOM_STATE,\n",
    "    \"num_leaves\":       50,\n",
    "    \"max_depth\":        8,\n",
    "    \"min_data_in_leaf\": 50,\n",
    "    \"min_split_gain\":   0.1,\n",
    "    \"min_child_samples\": best_min_child,\n",
    "    \"feature_fraction\": 0.8,\n",
    "    \"bagging_fraction\": 0.8,\n",
    "    \"bagging_freq\":     5,\n",
    "    \"reg_alpha\":        0.1,\n",
    "    \"reg_lambda\":       0.1,\n",
    "    \"max_bin\":          255,\n",
    "    \"force_col_wise\":   True\n",
    "}\n",
    "learning_rate = 0.01\n",
    "\n",
    "def objective_function(trial):\n",
    "    params = {\n",
    "        **lgb_params,\n",
    "        \"learning_rate\": learning_rate,\n",
    "        \"num_leaves\": trial.suggest_int(\"num_leaves\", 20, 80),\n",
    "        \"max_depth\": trial.suggest_int(\"max_depth\", 4, 12),\n",
    "        \"min_child_samples\": trial.suggest_int(\"min_child_samples\", 10, 50),\n",
    "        \"feature_fraction\": trial.suggest_float(\"feature_fraction\", 0.6, 1.0),\n",
    "        \"bagging_fraction\": trial.suggest_float(\"bagging_fraction\", 0.6, 1.0),\n",
    "        \"reg_alpha\": trial.suggest_float(\"reg_alpha\", 0.0, 1.0),\n",
    "        \"reg_lambda\": trial.suggest_float(\"reg_lambda\", 0.0, 1.0),\n",
    "    }\n",
    "\n",
    "    model = lgb.train(\n",
    "    params,\n",
    "    train_set=dtrain,\n",
    "    valid_sets=[dvalid],\n",
    "    valid_names=[\"valid_0\"],  # <-- nome esplicito\n",
    "    num_boost_round=1000,\n",
    "    callbacks=[\n",
    "        lgb.log_evaluation(period=0)\n",
    "    ]\n",
    ")\n",
    "\n",
    "    trial.set_user_attr(\"best_model\", model)\n",
    "    return model.best_score.get(\"valid_0\", {}).get(\"l1\", float(\"inf\"))\n",
    "\n",
    "# --- 6) Optuna tuning ---\n",
    "study = optuna.create_study(direction=\"minimize\")\n",
    "study.optimize(objective_function, n_trials=50)\n",
    "\n",
    "best_model = study.best_trial.user_attrs[\"best_model\"]\n",
    "\n",
    "best_iter_ts = getattr(best_model, \"best_iteration\", -1)\n",
    "if best_iter_ts <= 0:\n",
    "    logging.warning(\"⚠️ Nessuna iterazione valida trovata (best_iteration <= 0).\")\n",
    "    best_mae_ts = None\n",
    "\n",
    "if best_iter_ts > 0:\n",
    "    logging.info(f\"✅ TS best_iteration: {best_iter_ts}\")\n",
    "    logging.info(f\"📉 TS Best MAE (log1p): {best_mae_ts:.4f}\")\n",
    "else:\n",
    "    logging.warning(\"⚠️ Nessuna iterazione valida: modello non addestrato correttamente.\")\n",
    "\n",
    "best_score_dict = getattr(best_model, \"best_score\", {})\n",
    "best_mae_ts = None\n",
    "\n",
    "if isinstance(best_score_dict, dict) and best_score_dict:\n",
    "    first_valid_set = next(iter(best_score_dict))\n",
    "    best_mae_ts = best_score_dict[first_valid_set].get(\"l1\")\n",
    "    logging.info(f\"✅ TS best_iteration: {best_model.best_iteration}\")\n",
    "\n",
    "    if best_mae_ts is not None:\n",
    "        logging.info(f\"📉 TS Best MAE (log1p) on {first_valid_set}: {best_mae_ts:.4f}\")\n",
    "    else:\n",
    "        logging.warning(f\"⚠️ 'l1' non trovato in best_score[{first_valid_set}]\")\n",
    "        logging.warning(\"⚠️ best_mae_ts è None, non posso loggare in formato decimale.\")\n",
    "else:\n",
    "    logging.warning(\"⚠️ Nessuna metrica trovata in best_model.best_score.\")\n",
    "    logging.warning(\"⚠️ best_mae_ts è None, non posso loggare in formato decimale.\")\n",
    "    logging.info(f\"✅ TS best_iteration: {getattr(best_model, 'best_iteration', 'N/A')}\")\n",
    "\n",
    "\n",
    "# --- Logging finale con controllo ---\n",
    "if best_mae_ts is not None:\n",
    "    logging.info(f\"✅ Final TS Best MAE (log1p): {best_mae_ts:.4f}\")\n",
    "else:\n",
    "    logging.warning(\"⚠️ best_mae_ts è None, non posso loggare in formato decimale.\")\n",
    "\n",
    "if best_iter_ts is not None:\n",
    "    logging.info(f\"✅ TS best_iteration: {best_iter_ts}\")\n",
    "else:\n",
    "    logging.warning(\"⚠️ best_iter_ts è None.\")"
   ]
  },
  {
   "cell_type": "markdown",
   "id": "02f8b0c9-97a8-474b-aac3-e31c9cdb58c2",
   "metadata": {},
   "source": [
    "## 09. Build pipeline con target transformer"
   ]
  },
  {
   "cell_type": "code",
   "execution_count": 47,
   "id": "fe014bd9-acd1-4be4-989a-16455c836842",
   "metadata": {},
   "outputs": [
    {
     "name": "stderr",
     "output_type": "stream",
     "text": [
      "2025-07-29 04:24:22,238 [INFO] 🎯 Final LGBM params: {'num_leaves': 64, 'max_depth': 7, 'min_child_samples': 19, 'feature_fraction': 0.8198035545203568, 'bagging_fraction': 0.7430085723759272, 'reg_alpha': 0.8133603299484831, 'reg_lambda': 0.7002265382229789, 'objective': 'regression', 'metric': 'mae', 'boosting_type': 'gbdt', 'verbosity': -1, 'force_col_wise': True, 'random_state': 42, 'n_jobs': -1, 'n_estimators': 100}\n",
      "2025-07-29 04:24:22,239 [INFO] ✅ Pipeline with optimized LightGBM + log1p transformation ready.\n"
     ]
    }
   ],
   "source": [
    "# ——————————————————————————\n",
    "# 1) Recupero dei parametri ottimali\n",
    "# ——————————————————————————\n",
    "# Se hai uno study Optuna:\n",
    "best_optuna_params = study.best_params.copy()\n",
    "\n",
    "# Configurazione finale per LGBM\n",
    "final_params = {\n",
    "    **best_optuna_params,\n",
    "    \"objective\":      \"regression\",\n",
    "    \"metric\":         \"mae\",\n",
    "    \"boosting_type\":  \"gbdt\",\n",
    "    \"verbosity\":      -1,\n",
    "    \"force_col_wise\": True,\n",
    "    \"random_state\":   RANDOM_STATE,\n",
    "    \"n_jobs\":         -1,\n",
    "    # Assicuriamoci di usare il numero di iterazioni ottimale\n",
    "    \"n_estimators\":   max(100, getattr(best_model, \"best_iteration\", 0))\n",
    "  \n",
    "}\n",
    "\n",
    "logging.info(f\"🎯 Final LGBM params: {final_params}\")\n",
    "\n",
    "# ——————————————————————————\n",
    "# 2) Inizializzazione regressore e pipeline\n",
    "# ——————————————————————————\n",
    "lgb_final = lgb.LGBMRegressor(**final_params)\n",
    "\n",
    "pipeline = Pipeline([\n",
    "    (\"preprocessor\", preprocessor),\n",
    "    (\"regressor\", TransformedTargetRegressor(\n",
    "        regressor=lgb_final,\n",
    "        func=np.log1p,\n",
    "        inverse_func=np.expm1\n",
    "    ))\n",
    "])\n",
    "\n",
    "logging.info(\"✅ Pipeline with optimized LightGBM + log1p transformation ready.\")"
   ]
  },
  {
   "cell_type": "markdown",
   "id": "1bf1f075-89a4-4e49-a30c-2031f17ab419",
   "metadata": {},
   "source": [
    "## 10. Validazione + CV"
   ]
  },
  {
   "cell_type": "code",
   "execution_count": 40,
   "id": "a90328c1-1e44-4551-a9e9-bb18e4a8817c",
   "metadata": {},
   "outputs": [
    {
     "name": "stderr",
     "output_type": "stream",
     "text": [
      "2025-07-29 04:12:21,145 [INFO] ✅ Training data validated | X: (4929, 37), y: (4929,)\n",
      "2025-07-29 04:12:21,779 [INFO] 🔁 CROSS-VALIDATION RESULTS (TimeSeriesSplit)\n",
      "2025-07-29 04:12:21,780 [INFO] ✅ MAE: 72.56 ± 1.18 k€\n"
     ]
    }
   ],
   "source": [
    "def validate_training_data(X, y):\n",
    "    assert isinstance(X, pd.DataFrame), \"❌ X must be a pandas DataFrame\"\n",
    "    assert isinstance(y, (pd.Series, pd.DataFrame)), \"❌ y must be a pandas Series or DataFrame\"\n",
    "    assert X.shape[0] == y.shape[0], \"❌ Features and target misaligned\"\n",
    "    assert not X.isnull().values.any(), \"❌ Missing values in X\"\n",
    "    assert not y.isnull().values.any(), \"❌ Missing values in y\"\n",
    "    logging.info(f\"✅ Training data validated | X: {X.shape}, y: {y.shape}\")\n",
    "\n",
    "# Applichiamo la validazione sul dataset intero\n",
    "validate_training_data(X_full, y_full)\n",
    "\n",
    "# ——————————————————————————\n",
    "# 4) Cross‐validation con TimeSeriesSplit\n",
    "# ——————————————————————————\n",
    "tscv = TimeSeriesSplit(n_splits=5)\n",
    "\n",
    "cv_scores = cross_val_score(\n",
    "    pipeline,\n",
    "    X_full,\n",
    "    y_full,\n",
    "    cv=tscv,\n",
    "    scoring=make_scorer(mean_absolute_error, greater_is_better=False),\n",
    "    n_jobs=-1\n",
    ")\n",
    "\n",
    "# Ricordiamo che cross_val_score restituisce MAE negativo\n",
    "cv_mae = -cv_scores.mean()\n",
    "cv_std = cv_scores.std()\n",
    "\n",
    "logging.info(\"🔁 CROSS-VALIDATION RESULTS (TimeSeriesSplit)\")\n",
    "logging.info(f\"✅ MAE: {cv_mae:.2f} ± {cv_std:.2f} k€\")"
   ]
  },
  {
   "cell_type": "code",
   "execution_count": 45,
   "id": "a01ec34b-654a-4ca1-8308-de60b5d7cd7b",
   "metadata": {},
   "outputs": [],
   "source": [
    "# --- Helper per Prediction Intervals con Quantile Regression ---\n",
    "def train_quantile_models(X_train, y_train, preprocessor, quantiles=[0.05, 0.5, 0.95]):\n",
    "    quantile_models = {}\n",
    "    base_params = {\n",
    "        k: v for k, v in best_optuna_params.items()\n",
    "        if k not in ['objective', 'metric', 'n_estimators']\n",
    "    }\n",
    "\n",
    "    fallback_estimators = max(100, getattr(best_model, \"best_iteration\", 100))\n",
    "    n_estimators = best_optuna_params.get('n_estimators', fallback_estimators)\n",
    "    if n_estimators <= 0:\n",
    "        n_estimators = fallback_estimators\n",
    "\n",
    "    for q in quantiles:\n",
    "        model_q = lgb.LGBMRegressor(\n",
    "            objective='quantile',\n",
    "            alpha=q,\n",
    "            n_estimators=n_estimators,\n",
    "            random_state=RANDOM_STATE,\n",
    "            **base_params\n",
    "        )\n",
    "        pipeline_q = Pipeline([\n",
    "            ('preprocessor', preprocessor),\n",
    "            ('regressor', TransformedTargetRegressor(\n",
    "                regressor=model_q,\n",
    "                func=np.log1p,\n",
    "                inverse_func=np.expm1\n",
    "            ))\n",
    "        ])\n",
    "        pipeline_q.fit(X_train, y_train)\n",
    "        comprehensive_overfitting_check(pipeline, X_train, X_test, y_train, y_test)\n",
    "        quantile_models[q] = pipeline_q\n",
    "\n",
    "    return quantile_models\n",
    "\n",
    "def predict_with_intervals(quantile_models, X):\n",
    "    \"\"\"\n",
    "    DataFrame con predizioni per ciascun quantile.\n",
    "    \"\"\"\n",
    "    intervals = {}\n",
    "    for q, model in quantile_models.items():\n",
    "        intervals[f\"q{int(q*100)}\"] = model.predict(X)\n",
    "    return pd.DataFrame(intervals, index=X.index)"
   ]
  },
  {
   "cell_type": "code",
   "execution_count": 50,
   "id": "2c500b99-6141-4582-ab52-ad404cc33422",
   "metadata": {
    "scrolled": true
   },
   "outputs": [
    {
     "name": "stderr",
     "output_type": "stream",
     "text": [
      "2025-07-29 04:27:39,680 [INFO] [Blending] TrainA: (3943, 37), TrainB (meta-train): (986, 37)\n",
      "2025-07-29 04:27:39,884 [INFO]     • Base learner lgb trained on A\n",
      "2025-07-29 04:27:40,720 [INFO]     • Base learner xgb trained on A\n",
      "2025-07-29 04:27:40,743 [INFO]     • Base learner ridge trained on A\n",
      "2025-07-29 04:27:40,814 [INFO] 🔍 Meta-learner best alpha (nested CV): 10.0\n",
      "2025-07-29 04:27:40,817 [INFO]     • Meta-learner (Ridge) trained on meta-features\n",
      "2025-07-29 04:27:40,937 [INFO] 🔄 Base learner lgb refit on full training data\n",
      "2025-07-29 04:27:41,596 [INFO] 🔄 Base learner xgb refit on full training data\n",
      "2025-07-29 04:27:41,618 [INFO] 🔄 Base learner ridge refit on full training data\n",
      "2025-07-29 04:27:41,964 [INFO]               q5         q50         q95\n",
      "4774  225.997773  375.803546  477.339361\n",
      "3398  114.596540  171.662627  234.187230\n",
      "889   149.966917  256.876446  318.992903\n",
      "4198  119.048370  224.280699  259.420246\n",
      "3553  281.245920  454.491045  561.924596\n",
      "2025-07-29 04:27:41,965 [INFO] 📊 Interval coverage: 76.77%\n",
      "2025-07-29 04:27:41,965 [INFO] 📊 Average interval width: 211.06 k€\n",
      "2025-07-29 04:27:41,990 [INFO] 📈 FINAL BLENDING EVALUATION ON TEST SET\n",
      "2025-07-29 04:27:41,991 [INFO] 📊 MAE:  60.40 k€\n",
      "2025-07-29 04:27:41,992 [INFO] 📊 RMSE: 74.88 k€\n",
      "2025-07-29 04:27:41,992 [INFO] 📊 R²:   0.71\n"
     ]
    }
   ],
   "source": [
    "import logging\n",
    "import numpy as np\n",
    "import pandas as pd\n",
    "\n",
    "from sklearn.model_selection import train_test_split, TimeSeriesSplit, GridSearchCV\n",
    "from sklearn.linear_model import Ridge\n",
    "from sklearn.metrics import mean_absolute_error, mean_squared_error, r2_score, make_scorer\n",
    "from sklearn.compose import TransformedTargetRegressor\n",
    "from xgboost import XGBRegressor\n",
    "import lightgbm as lgb\n",
    "\n",
    "# -------------------------------------------\n",
    "# 1) Split “A/B” per blending (80/20)\n",
    "# -------------------------------------------\n",
    "X_A, X_B, y_A, y_B = train_test_split(\n",
    "    X_full, y_full,\n",
    "    test_size=0.2,\n",
    "    random_state=RANDOM_STATE,\n",
    "    shuffle=True\n",
    ")\n",
    "logging.info(f\"[Blending] TrainA: {X_A.shape}, TrainB (meta-train): {X_B.shape}\")\n",
    "\n",
    "# -------------------------------------------\n",
    "# 2) Fit dei base learners su A\n",
    "# -------------------------------------------\n",
    "safe_best_iter = max(100, getattr(best_model, \"best_iteration\", 0))\n",
    "\n",
    "base_learners = {\n",
    "    \"lgb\": TransformedTargetRegressor(\n",
    "        regressor=lgb.LGBMRegressor(\n",
    "            **best_optuna_params,\n",
    "            n_estimators=safe_best_iter,\n",
    "            random_state=RANDOM_STATE,\n",
    "            n_jobs=-1\n",
    "        ),\n",
    "        func=np.log1p, inverse_func=np.expm1\n",
    "    ),\n",
    "    \"xgb\": TransformedTargetRegressor(\n",
    "        regressor=XGBRegressor(\n",
    "            n_estimators=500,\n",
    "            max_depth=6,\n",
    "            learning_rate=0.01,\n",
    "            random_state=RANDOM_STATE,\n",
    "            n_jobs=-1,\n",
    "            verbosity=0\n",
    "        ),\n",
    "        func=np.log1p, inverse_func=np.expm1\n",
    "    ),\n",
    "    \"ridge\": TransformedTargetRegressor(\n",
    "        regressor=Ridge(alpha=1.0, random_state=RANDOM_STATE),\n",
    "        func=np.log1p, inverse_func=np.expm1\n",
    "    )\n",
    "}\n",
    "\n",
    "for name, learner in base_learners.items():\n",
    "    learner.fit(preprocessor.fit_transform(X_A), y_A)\n",
    "    logging.info(f\"    • Base learner {name} trained on A\")\n",
    "\n",
    "# -------------------------------------------\n",
    "# 3) Creazione meta-features su B\n",
    "# -------------------------------------------\n",
    "meta_X = np.vstack([\n",
    "    learner.predict(preprocessor.transform(X_B))\n",
    "    for learner in base_learners.values()\n",
    "]).T\n",
    "meta_y = y_B\n",
    "\n",
    "# -------------------------------------------\n",
    "# 4) Nested CV per tuning alpha (meta-learner)\n",
    "# -------------------------------------------\n",
    "inner_tscv = TimeSeriesSplit(n_splits=3)\n",
    "param_grid = {\"alpha\": [0.01, 0.1, 1.0, 10.0]}\n",
    "\n",
    "grid_meta = GridSearchCV(\n",
    "    Ridge(random_state=RANDOM_STATE),\n",
    "    param_grid=param_grid,\n",
    "    cv=inner_tscv,\n",
    "    scoring=make_scorer(mean_absolute_error, greater_is_better=False),\n",
    "    n_jobs=-1,\n",
    "    refit=True\n",
    ")\n",
    "grid_meta.fit(meta_X, meta_y)\n",
    "best_alpha = grid_meta.best_params_[\"alpha\"]\n",
    "logging.info(f\"🔍 Meta-learner best alpha (nested CV): {best_alpha}\")\n",
    "\n",
    "# -------------------------------------------\n",
    "# 5) Fit finale del meta-learner\n",
    "# -------------------------------------------\n",
    "meta_learner = Ridge(alpha=best_alpha, random_state=RANDOM_STATE)\n",
    "meta_learner.fit(meta_X, meta_y)\n",
    "logging.info(\"    • Meta-learner (Ridge) trained on meta-features\")\n",
    "\n",
    "# -------------------------------------------\n",
    "# 6) Refit dei base learners su tutto X_full\n",
    "# -------------------------------------------\n",
    "for name, learner in base_learners.items():\n",
    "    learner.fit(preprocessor.fit_transform(X_full), y_full)\n",
    "    logging.info(f\"🔄 Base learner {name} refit on full training data\")\n",
    "\n",
    "# -------------------------------------------\n",
    "# 7) Funzione blending finale\n",
    "# -------------------------------------------\n",
    "def blending_predict(X):\n",
    "    X_enc = preprocessor.transform(X)\n",
    "    base_preds = np.vstack([lm.predict(X_enc) for lm in base_learners.values()]).T\n",
    "    return meta_learner.predict(base_preds)\n",
    "\n",
    "# -------------------------------------------\n",
    "# 8) Prediction Intervals con modelli quantili\n",
    "# -------------------------------------------\n",
    "if \"train_quantile_models\" in globals() and \"predict_with_intervals\" in globals():\n",
    "    quantiles = [0.05, 0.5, 0.95]\n",
    "    quantile_models = train_quantile_models(X_train, y_train, preprocessor, quantiles=quantiles)\n",
    "    pred_intervals = predict_with_intervals(quantile_models, X_test)\n",
    "\n",
    "    interval_cols = [f\"q{int(q*100)}\" for q in quantiles]\n",
    "    lower_col, median_col, upper_col = interval_cols\n",
    "    logging.info(pred_intervals.head().to_string())\n",
    "\n",
    "    lower = pred_intervals[lower_col].to_numpy()\n",
    "    upper = pred_intervals[upper_col].to_numpy()\n",
    "    actual = y_test.to_numpy()\n",
    "\n",
    "    coverage = np.mean((actual >= lower) & (actual <= upper))\n",
    "    avg_width = np.mean(upper - lower)\n",
    "\n",
    "    logging.info(f\"📊 Interval coverage: {coverage:.2%}\")\n",
    "    logging.info(f\"📊 Average interval width: {avg_width:.2f} k€\")\n",
    "else:\n",
    "    logging.warning(\"⚠️ Funzioni per prediction intervals non trovate.\")\n",
    "\n",
    "# -------------------------------------------\n",
    "# 9) Valutazione finale sul test set\n",
    "# -------------------------------------------\n",
    "y_pred_blend = blending_predict(X_test)\n",
    "mae_blend    = mean_absolute_error(y_test, y_pred_blend)\n",
    "rmse_blend   = np.sqrt(mean_squared_error(y_test, y_pred_blend))\n",
    "r2_blend     = r2_score(y_test, y_pred_blend)\n",
    "\n",
    "logging.info(\"📈 FINAL BLENDING EVALUATION ON TEST SET\")\n",
    "logging.info(f\"📊 MAE:  {mae_blend:.2f} k€\")\n",
    "logging.info(f\"📊 RMSE: {rmse_blend:.2f} k€\")\n",
    "logging.info(f\"📊 R²:   {r2_blend:.2f}\")"
   ]
  },
  {
   "cell_type": "code",
   "execution_count": 53,
   "id": "34a30005-753c-4ccf-b502-1b1f3e27be5e",
   "metadata": {},
   "outputs": [
    {
     "name": "stderr",
     "output_type": "stream",
     "text": [
      "2025-07-29 04:29:13,432 [INFO] \n",
      "🔍 OVERFITTING ANALYSIS\n",
      "2025-07-29 04:29:13,433 [INFO] ==================================================\n",
      "2025-07-29 04:29:13,433 [INFO] Training MAE: 47.61\n",
      "2025-07-29 04:29:13,434 [INFO] CV MAE:       71.12 ± 0.37\n",
      "2025-07-29 04:29:13,434 [INFO] Test MAE:     70.36\n"
     ]
    },
    {
     "data": {
      "text/plain": [
       "{'train': 47.61067417161766,\n",
       " 'cv': np.float64(71.12312008246451),\n",
       " 'test': 70.35937010121542}"
      ]
     },
     "execution_count": 53,
     "metadata": {},
     "output_type": "execute_result"
    }
   ],
   "source": [
    "from sklearn.base import clone\n",
    "\n",
    "lgb_pipeline_check = Pipeline([\n",
    "    (\"preprocessor\", preprocessor),\n",
    "    (\"regressor\", clone(base_learners[\"lgb\"]))\n",
    "])\n",
    "lgb_pipeline_check.fit(X_train, y_train)\n",
    "\n",
    "comprehensive_overfitting_check(\n",
    "    pipeline=lgb_pipeline_check,\n",
    "    X_train=X_train,\n",
    "    X_test=X_test,\n",
    "    y_train=y_train,\n",
    "    y_test=y_test\n",
    ")"
   ]
  },
  {
   "cell_type": "markdown",
   "id": "9bbc1d70-e1f4-48ce-ac17-2592e450c444",
   "metadata": {},
   "source": [
    "## 12. Feature Importance"
   ]
  },
  {
   "cell_type": "code",
   "execution_count": 55,
   "id": "7c1bc313-6854-4dff-bd07-acd9dbf857bc",
   "metadata": {},
   "outputs": [
    {
     "name": "stderr",
     "output_type": "stream",
     "text": [
      "2025-07-29 04:31:18,662 [INFO] 🧠 Analyzing feature importances from the LGBM base learner in the blending model...\n",
      "2025-07-29 04:31:19,745 [INFO] 🏆 Top 10 features by gain importance (and permutation):\n"
     ]
    },
    {
     "data": {
      "text/html": [
       "<div>\n",
       "<style scoped>\n",
       "    .dataframe tbody tr th:only-of-type {\n",
       "        vertical-align: middle;\n",
       "    }\n",
       "\n",
       "    .dataframe tbody tr th {\n",
       "        vertical-align: top;\n",
       "    }\n",
       "\n",
       "    .dataframe thead th {\n",
       "        text-align: right;\n",
       "    }\n",
       "</style>\n",
       "<table border=\"1\" class=\"dataframe\">\n",
       "  <thead>\n",
       "    <tr style=\"text-align: right;\">\n",
       "      <th></th>\n",
       "      <th>feature</th>\n",
       "      <th>gain_importance</th>\n",
       "      <th>perm_importance</th>\n",
       "    </tr>\n",
       "  </thead>\n",
       "  <tbody>\n",
       "    <tr>\n",
       "      <th>34</th>\n",
       "      <td>size_m2</td>\n",
       "      <td>4161.029167</td>\n",
       "      <td>0.296195</td>\n",
       "    </tr>\n",
       "    <tr>\n",
       "      <th>44</th>\n",
       "      <td>luxury_score</td>\n",
       "      <td>184.463932</td>\n",
       "      <td>0.019240</td>\n",
       "    </tr>\n",
       "    <tr>\n",
       "      <th>40</th>\n",
       "      <td>humidity_level</td>\n",
       "      <td>96.978713</td>\n",
       "      <td>0.016821</td>\n",
       "    </tr>\n",
       "    <tr>\n",
       "      <th>41</th>\n",
       "      <td>temperature_avg</td>\n",
       "      <td>96.681883</td>\n",
       "      <td>0.018135</td>\n",
       "    </tr>\n",
       "    <tr>\n",
       "      <th>46</th>\n",
       "      <td>distance_to_center_km</td>\n",
       "      <td>93.722536</td>\n",
       "      <td>0.017329</td>\n",
       "    </tr>\n",
       "    <tr>\n",
       "      <th>43</th>\n",
       "      <td>air_quality_index</td>\n",
       "      <td>89.542683</td>\n",
       "      <td>0.016887</td>\n",
       "    </tr>\n",
       "    <tr>\n",
       "      <th>28</th>\n",
       "      <td>garage_0</td>\n",
       "      <td>84.590403</td>\n",
       "      <td>0.002879</td>\n",
       "    </tr>\n",
       "    <tr>\n",
       "      <th>37</th>\n",
       "      <td>year_built</td>\n",
       "      <td>80.369337</td>\n",
       "      <td>0.015748</td>\n",
       "    </tr>\n",
       "    <tr>\n",
       "      <th>42</th>\n",
       "      <td>noise_level</td>\n",
       "      <td>78.586451</td>\n",
       "      <td>0.012931</td>\n",
       "    </tr>\n",
       "    <tr>\n",
       "      <th>26</th>\n",
       "      <td>has_balcony_0</td>\n",
       "      <td>35.576559</td>\n",
       "      <td>0.005598</td>\n",
       "    </tr>\n",
       "  </tbody>\n",
       "</table>\n",
       "</div>"
      ],
      "text/plain": [
       "                  feature  gain_importance  perm_importance\n",
       "34                size_m2      4161.029167         0.296195\n",
       "44           luxury_score       184.463932         0.019240\n",
       "40         humidity_level        96.978713         0.016821\n",
       "41        temperature_avg        96.681883         0.018135\n",
       "46  distance_to_center_km        93.722536         0.017329\n",
       "43      air_quality_index        89.542683         0.016887\n",
       "28               garage_0        84.590403         0.002879\n",
       "37             year_built        80.369337         0.015748\n",
       "42            noise_level        78.586451         0.012931\n",
       "26          has_balcony_0        35.576559         0.005598"
      ]
     },
     "metadata": {},
     "output_type": "display_data"
    }
   ],
   "source": [
    "# 🔍 FEATURE IMPORTANCE ANALYSIS (LightGBM base learner)\n",
    "logging.info(\"🧠 Analyzing feature importances from the LGBM base learner in the blending model...\")\n",
    "\n",
    "# 1) Estrai i nomi delle feature dopo OneHotEncoder dal preprocessor\n",
    "try:\n",
    "    ohe = preprocessor.named_transformers_[\"cat\"]\n",
    "    encoded_cat = list(ohe.get_feature_names_out(categorical_cols))\n",
    "except Exception as e:\n",
    "    logging.error(f\"❌ Errore estrazione OHE features: {e}\")\n",
    "    encoded_cat = []\n",
    "\n",
    "# 2) Combina feature one-hot + numeriche\n",
    "feature_names = encoded_cat + numeric_cols\n",
    "\n",
    "# 3) Estrai il booster LightGBM dal base learner\n",
    "lgb_booster = base_learners[\"lgb\"].regressor_.booster_\n",
    "\n",
    "# 4) Importanza delle feature per gain\n",
    "gain_importances = lgb_booster.feature_importance(importance_type=\"gain\")\n",
    "\n",
    "feat_imp_df = pd.DataFrame({\n",
    "    \"feature\": feature_names,\n",
    "    \"gain_importance\": gain_importances\n",
    "})\n",
    "\n",
    "# 5) Calcola la permutation importance\n",
    "from sklearn.inspection import permutation_importance\n",
    "\n",
    "try:\n",
    "    # ➤ X_test dev'essere preprocessato\n",
    "    X_test_enc = preprocessor.transform(X_test)\n",
    "    # ➤ y_test dev'essere trasformato con log1p perché usato da .regressor_\n",
    "    y_test_transformed = np.log1p(y_test)\n",
    "\n",
    "    perm = permutation_importance(\n",
    "        estimator=base_learners[\"lgb\"].regressor_,\n",
    "        X=X_test_enc,\n",
    "        y=y_test_transformed,\n",
    "        n_repeats=5,\n",
    "        random_state=RANDOM_STATE,\n",
    "        scoring=\"neg_mean_absolute_error\"\n",
    "    )\n",
    "\n",
    "    perm_df = pd.DataFrame({\n",
    "        \"feature\": feature_names,\n",
    "        \"perm_importance\": perm.importances_mean\n",
    "    })\n",
    "\n",
    "    feat_imp_df = feat_imp_df.merge(perm_df, on=\"feature\", how=\"left\")\n",
    "\n",
    "except Exception as e:\n",
    "    logging.error(f\"❌ Errore durante la permutation importance: {e}\")\n",
    "    feat_imp_df[\"perm_importance\"] = np.nan\n",
    "\n",
    "# 6) Mostra le prime 10\n",
    "top_feats = feat_imp_df.sort_values(\"gain_importance\", ascending=False).head(10)\n",
    "logging.info(\"🏆 Top 10 features by gain importance (and permutation):\")\n",
    "display(top_feats)"
   ]
  },
  {
   "cell_type": "markdown",
   "id": "79f7e416-e4b5-493f-86d4-30f9b02de1b4",
   "metadata": {},
   "source": [
    "## 13. Aggregated Importance"
   ]
  },
  {
   "cell_type": "code",
   "execution_count": 56,
   "id": "f2bb987e-dafa-4842-9b9c-aefe4593cb78",
   "metadata": {},
   "outputs": [
    {
     "name": "stderr",
     "output_type": "stream",
     "text": [
      "2025-07-29 04:31:24,332 [INFO] 📊 Aggregated importance by categorical feature:\n"
     ]
    },
    {
     "data": {
      "text/html": [
       "<div>\n",
       "<style scoped>\n",
       "    .dataframe tbody tr th:only-of-type {\n",
       "        vertical-align: middle;\n",
       "    }\n",
       "\n",
       "    .dataframe tbody tr th {\n",
       "        vertical-align: top;\n",
       "    }\n",
       "\n",
       "    .dataframe thead th {\n",
       "        text-align: right;\n",
       "    }\n",
       "</style>\n",
       "<table border=\"1\" class=\"dataframe\">\n",
       "  <thead>\n",
       "    <tr style=\"text-align: right;\">\n",
       "      <th></th>\n",
       "      <th>aggregated_importance</th>\n",
       "    </tr>\n",
       "  </thead>\n",
       "  <tbody>\n",
       "    <tr>\n",
       "      <th>garage</th>\n",
       "      <td>85.142953</td>\n",
       "    </tr>\n",
       "    <tr>\n",
       "      <th>energy_class</th>\n",
       "      <td>69.181798</td>\n",
       "    </tr>\n",
       "    <tr>\n",
       "      <th>has_garden</th>\n",
       "      <td>37.795526</td>\n",
       "    </tr>\n",
       "    <tr>\n",
       "      <th>has_balcony</th>\n",
       "      <td>36.183501</td>\n",
       "    </tr>\n",
       "    <tr>\n",
       "      <th>location</th>\n",
       "      <td>21.402892</td>\n",
       "    </tr>\n",
       "    <tr>\n",
       "      <th>owner_occupied</th>\n",
       "      <td>8.474746</td>\n",
       "    </tr>\n",
       "    <tr>\n",
       "      <th>public_transport_nearby</th>\n",
       "      <td>3.749451</td>\n",
       "    </tr>\n",
       "    <tr>\n",
       "      <th>has_elevator</th>\n",
       "      <td>1.781476</td>\n",
       "    </tr>\n",
       "  </tbody>\n",
       "</table>\n",
       "</div>"
      ],
      "text/plain": [
       "                         aggregated_importance\n",
       "garage                               85.142953\n",
       "energy_class                         69.181798\n",
       "has_garden                           37.795526\n",
       "has_balcony                          36.183501\n",
       "location                             21.402892\n",
       "owner_occupied                        8.474746\n",
       "public_transport_nearby               3.749451\n",
       "has_elevator                          1.781476"
      ]
     },
     "metadata": {},
     "output_type": "display_data"
    },
    {
     "data": {
      "text/html": [
       "<div>\n",
       "<style scoped>\n",
       "    .dataframe tbody tr th:only-of-type {\n",
       "        vertical-align: middle;\n",
       "    }\n",
       "\n",
       "    .dataframe tbody tr th {\n",
       "        vertical-align: top;\n",
       "    }\n",
       "\n",
       "    .dataframe thead th {\n",
       "        text-align: right;\n",
       "    }\n",
       "</style>\n",
       "<table border=\"1\" class=\"dataframe\">\n",
       "  <thead>\n",
       "    <tr style=\"text-align: right;\">\n",
       "      <th></th>\n",
       "      <th>aggregated_importance</th>\n",
       "      <th>perm_importance</th>\n",
       "    </tr>\n",
       "  </thead>\n",
       "  <tbody>\n",
       "    <tr>\n",
       "      <th>garage</th>\n",
       "      <td>85.142953</td>\n",
       "      <td>0.003008</td>\n",
       "    </tr>\n",
       "    <tr>\n",
       "      <th>energy_class</th>\n",
       "      <td>69.181798</td>\n",
       "      <td>0.004619</td>\n",
       "    </tr>\n",
       "    <tr>\n",
       "      <th>has_garden</th>\n",
       "      <td>37.795526</td>\n",
       "      <td>0.002258</td>\n",
       "    </tr>\n",
       "    <tr>\n",
       "      <th>has_balcony</th>\n",
       "      <td>36.183501</td>\n",
       "      <td>0.005997</td>\n",
       "    </tr>\n",
       "    <tr>\n",
       "      <th>location</th>\n",
       "      <td>21.402892</td>\n",
       "      <td>0.005649</td>\n",
       "    </tr>\n",
       "    <tr>\n",
       "      <th>owner_occupied</th>\n",
       "      <td>8.474746</td>\n",
       "      <td>0.002489</td>\n",
       "    </tr>\n",
       "    <tr>\n",
       "      <th>public_transport_nearby</th>\n",
       "      <td>3.749451</td>\n",
       "      <td>0.000517</td>\n",
       "    </tr>\n",
       "    <tr>\n",
       "      <th>has_elevator</th>\n",
       "      <td>1.781476</td>\n",
       "      <td>0.000222</td>\n",
       "    </tr>\n",
       "  </tbody>\n",
       "</table>\n",
       "</div>"
      ],
      "text/plain": [
       "                         aggregated_importance  perm_importance\n",
       "garage                               85.142953         0.003008\n",
       "energy_class                         69.181798         0.004619\n",
       "has_garden                           37.795526         0.002258\n",
       "has_balcony                          36.183501         0.005997\n",
       "location                             21.402892         0.005649\n",
       "owner_occupied                        8.474746         0.002489\n",
       "public_transport_nearby               3.749451         0.000517\n",
       "has_elevator                          1.781476         0.000222"
      ]
     },
     "metadata": {},
     "output_type": "display_data"
    },
    {
     "data": {
      "image/png": "[encoded data removed]",
      "text/plain": [
       "<Figure size 800x320 with 1 Axes>"
      ]
     },
     "metadata": {},
     "output_type": "display_data"
    }
   ],
   "source": [
    "import re\n",
    "from typing import Dict, List\n",
    "\n",
    "def get_categorical_importance_summary(\n",
    "    feat_importance: pd.DataFrame,\n",
    "    categorical_cols: List[str],\n",
    "    importance_col: str = \"gain_importance\",\n",
    "    normalize: bool = False\n",
    ") -> Dict[str, float]:\n",
    "    \"\"\"\n",
    "    Calcola l'importanza aggregata per ogni colonna categorica originale.\n",
    "    \"\"\"\n",
    "    cat_importance: Dict[str, float] = {}\n",
    "    for col in categorical_cols:\n",
    "        pattern = re.compile(rf\"^{re.escape(col)}_\")\n",
    "        sub_feats = [f for f in feat_importance[\"feature\"] if pattern.match(f)]\n",
    "        if not sub_feats:\n",
    "            cat_importance[col] = 0.0\n",
    "            continue\n",
    "        total = feat_importance.loc[\n",
    "            feat_importance[\"feature\"].isin(sub_feats), importance_col\n",
    "        ].sum()\n",
    "        if normalize:\n",
    "            total /= len(sub_feats)\n",
    "        cat_importance[col] = total\n",
    "    return cat_importance\n",
    "\n",
    "# 1) Calcolo aggregated gain importance\n",
    "cat_imp = get_categorical_importance_summary(\n",
    "    feat_imp_df, categorical_cols, importance_col=\"gain_importance\", normalize=False\n",
    ")\n",
    "cat_importance_df = (\n",
    "    pd.DataFrame.from_dict(cat_imp, orient=\"index\", columns=[\"aggregated_importance\"])\n",
    "    .sort_values(\"aggregated_importance\", ascending=False)\n",
    ")\n",
    "\n",
    "logging.info(\"📊 Aggregated importance by categorical feature:\")\n",
    "display(cat_importance_df)\n",
    "\n",
    "# 2) (Opzionale) Permutation importance se disponibile\n",
    "if \"perm\" in globals():\n",
    "    perm_df = pd.DataFrame({\n",
    "        \"feature\": feature_names,\n",
    "        \"perm_importance\": perm.importances_mean\n",
    "    })\n",
    "    cat_perm: Dict[str, float] = {}\n",
    "    for col in categorical_cols:\n",
    "        pattern = re.compile(rf\"^{re.escape(col)}_\")\n",
    "        sub_feats = [f for f in perm_df[\"feature\"] if pattern.match(f)]\n",
    "        cat_perm[col] = perm_df.loc[\n",
    "            perm_df[\"feature\"].isin(sub_feats), \"perm_importance\"\n",
    "        ].sum() if sub_feats else 0.0\n",
    "    cat_importance_df[\"perm_importance\"] = cat_importance_df.index.map(cat_perm)\n",
    "    display(cat_importance_df)\n",
    "\n",
    "# 3) Plot\n",
    "plt.figure(figsize=(8, len(cat_importance_df) * 0.4))\n",
    "cat_importance_df[\"aggregated_importance\"].plot.barh()\n",
    "plt.xlabel(\"Aggregated Gain Importance\")\n",
    "plt.title(\"Categorical Features Importance\")\n",
    "plt.gca().invert_yaxis()\n",
    "plt.tight_layout()\n",
    "plt.show()"
   ]
  },
  {
   "cell_type": "markdown",
   "id": "02c11449-9757-42a3-942b-e91ead0c922c",
   "metadata": {},
   "source": [
    "## 14. Save model & metadata"
   ]
  },
  {
   "cell_type": "code",
   "execution_count": 58,
   "id": "0b2e3e4f-8e12-4028-a0c6-de17ea9fc35b",
   "metadata": {
    "scrolled": true
   },
   "outputs": [
    {
     "name": "stderr",
     "output_type": "stream",
     "text": [
      "2025-07-29 04:32:30,081 [INFO] ✅ Model saved → ../models/property/value_regressor_v2.joblib\n",
      "2025-07-29 04:32:30,083 [INFO] 📄 Metadata saved → ../models/property/value_regressor_v2_meta.json\n"
     ]
    }
   ],
   "source": [
    "# === 2) Crea directory di destinazione se non esiste ===\n",
    "os.makedirs(f\"{MODEL_BASE_DIR}/{ASSET_TYPE}\", exist_ok=True)\n",
    "\n",
    "model_version = \"v2\"\n",
    "model_name = f\"value_regressor_{model_version}\"\n",
    "\n",
    "# === 3) Salvataggio modello ===\n",
    "pipeline_filename = f\"{MODEL_BASE_DIR}/{ASSET_TYPE}/{model_name}.joblib\"\n",
    "joblib.dump(pipeline, pipeline_filename)\n",
    "\n",
    "# === 4) Calcolo hash dataset ===\n",
    "with open(DATA_PATH, \"rb\") as f:\n",
    "    dataset_hash = hashlib.sha256(f.read()).hexdigest()\n",
    "\n",
    "# === 5) Feature encodate post-OHE ===\n",
    "ohe = pipeline.named_steps[\"preprocessor\"].named_transformers_[\"cat\"]\n",
    "encoded_cat_features = list(ohe.get_feature_names_out(categorical_cols))\n",
    "encoded_feature_names = numeric_cols + encoded_cat_features\n",
    "\n",
    "X_test_enc = pd.DataFrame(preprocessor.transform(X_test), columns=encoded_feature_names)\n",
    "y_pred_test = np.expm1(best_model.predict(X_test_enc))\n",
    "y_true_test = y_test.values\n",
    "\n",
    "# Metriche classiche\n",
    "mae  = mean_absolute_error(y_true_test, y_pred_test)\n",
    "rmse = np.sqrt(mean_squared_error(y_true_test, y_pred_test))\n",
    "r2   = r2_score(y_true_test, y_pred_test)\n",
    "\n",
    "# === 6) Costruzione metadata ===\n",
    "metadata = {\n",
    "    \"asset_type\": ASSET_TYPE,\n",
    "    \"model_task\": \"valuation_regression\",\n",
    "    \"model_version\": model_version,\n",
    "    \"model_class\": \"TransformedTargetRegressor(LightGBM)\",\n",
    "    \"random_state\": RANDOM_STATE,\n",
    "    \"dataset_file\": DATA_PATH,\n",
    "    \"dataset_hash_sha256\": dataset_hash,\n",
    "    \"n_rows_total\": len(df),\n",
    "    \"n_rows_train\": len(X_train),\n",
    "    \"n_rows_test\": len(X_test),\n",
    "    \"features_categorical\": categorical_cols,\n",
    "    \"features_numeric\": numeric_cols,\n",
    "    \"feature_list_ordered\": feature_list,\n",
    "    \"features_encoded\": encoded_feature_names,\n",
    "    \"encoded_feature_count\": len(encoded_feature_names),\n",
    "    \"engineered_features\": [\n",
    "        \"price_per_sqm\",\n",
    "        \"luxury_score\",\n",
    "        \"efficiency_score\",\n",
    "        \"env_score\",\n",
    "        \"age_years\"\n",
    "    ],\n",
    "    \"metrics\": {\n",
    "        \"mae_k\": round(mae, 4),\n",
    "        \"rmse_k\": round(rmse, 4),\n",
    "        \"r2\": round(r2, 4),\n",
    "        \"coverage_interval\": round(coverage, 4),\n",
    "        \"avg_interval_width_k\": round(avg_width, 4)\n",
    "    },\n",
    "    \"prediction_intervals\": {\n",
    "        \"quantiles\": [0.05, 0.5, 0.95],\n",
    "        \"sample_intervals\": pred_intervals.head(5).to_dict(orient=\"records\")\n",
    "    },\n",
    "    \"feature_importance_top10\": feat_imp_df.head(10).to_dict(orient=\"records\"),\n",
    "    \"best_params\": best_optuna_params,\n",
    "    \"generated_at\": datetime.utcnow().isoformat() + \"Z\",\n",
    "}\n",
    "\n",
    "# === 7) Statistiche su feature ingegnerizzate ===\n",
    "engineered_features = [\n",
    "    \"price_per_sqm\",\n",
    "    \"luxury_score\",\n",
    "    \"efficiency_score\",\n",
    "    \"env_score\",\n",
    "    \"age_years\"\n",
    "]\n",
    "\n",
    "metadata[\"engineered_feature_stats\"] = {\n",
    "    feat: {\n",
    "        \"mean\": round(float(df[feat].mean()), 4),\n",
    "        \"min\": round(float(df[feat].min()), 4),\n",
    "        \"max\": round(float(df[feat].max()), 4),\n",
    "    }\n",
    "    for feat in engineered_features if feat in df.columns\n",
    "}\n",
    "\n",
    "# === 8) Salvataggio metadati ===\n",
    "meta_filename = f\"{MODEL_BASE_DIR}/{ASSET_TYPE}/{model_name}_meta.json\"\n",
    "with open(meta_filename, \"w\", encoding=\"utf-8\") as f:\n",
    "    json.dump(metadata, f, indent=2)\n",
    "\n",
    "# === 9) Logging finale ===\n",
    "logging.info(f\"✅ Model saved → {pipeline_filename}\")\n",
    "logging.info(f\"📄 Metadata saved → {meta_filename}\")"
   ]
  },
  {
   "cell_type": "markdown",
   "id": "d176f573-6659-4010-b6ab-94feaa798cc5",
   "metadata": {},
   "source": [
    "## TODO:"
   ]
  },
  {
   "cell_type": "markdown",
   "id": "eef7802d-5dec-4b69-bd53-aeed6a907114",
   "metadata": {},
   "source": [
    "- Aggiungi versioning esplicito nei filename dei modelli\n",
    "- Implementa health checks per monitorare drift\n",
    "- Crea script wrapper per esecuzione automatizzata\n",
    "- Aggiungi unit tests per funzioni critiche\n",
    "__________________________\n",
    "__________________________\n",
    "Prediction Intervals\n",
    "Metrica\tValore\n",
    "Coverage Interval (5–95%)\t76.77%\n",
    "Average Interval Width\t211.06 k€\n",
    "\n",
    "\n",
    "- La copertura ideale teorica sarebbe 90% (dal 5° al 95° percentile), ma il tuo 76.77% è buono considerando la non gaussianità di molti dati.\n",
    "\n",
    "-L'intervallo medio di 211k€ è ragionevole, ma puoi agire su alpha, learning_rate o data augmentation per ottimizzarlo."
   ]
  },
  {
   "cell_type": "code",
   "execution_count": null,
   "id": "a8ef078d-b1a5-45e1-a9c4-34802a9dd42a",
   "metadata": {},
   "outputs": [],
   "source": []
  }
 ],
 "metadata": {
  "kernelspec": {
   "display_name": "Python 3 (ipykernel)",
   "language": "python",
   "name": "python3"
  },
  "language_info": {
   "codemirror_mode": {
    "name": "ipython",
    "version": 3
   },
   "file_extension": ".py",
   "mimetype": "text/x-python",
   "name": "python",
   "nbconvert_exporter": "python",
   "pygments_lexer": "ipython3",
   "version": "3.11.13"
  }
 },
 "nbformat": 4,
 "nbformat_minor": 5
}
