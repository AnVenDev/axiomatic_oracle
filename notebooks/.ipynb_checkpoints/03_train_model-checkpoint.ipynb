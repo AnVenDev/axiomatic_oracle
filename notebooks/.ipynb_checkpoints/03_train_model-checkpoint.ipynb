{
 "cells": [
  {
   "cell_type": "markdown",
   "id": "8cc119a1-28bd-47af-8a5d-38204c005bdf",
   "metadata": {},
   "source": [
    "### Imports and dataset upload"
   ]
  },
  {
   "cell_type": "code",
   "execution_count": 1,
   "id": "ba165936-c2d9-4dd5-b388-62912b63f069",
   "metadata": {},
   "outputs": [],
   "source": [
    "import os\n",
    "import json\n",
    "import hashlib\n",
    "from datetime import datetime\n",
    "\n",
    "import numpy as np\n",
    "import pandas as pd\n",
    "\n",
    "from sklearn.model_selection import train_test_split\n",
    "from sklearn.preprocessing import OneHotEncoder\n",
    "from sklearn.compose import ColumnTransformer\n",
    "from sklearn.pipeline import Pipeline\n",
    "from sklearn.ensemble import RandomForestRegressor\n",
    "from sklearn.metrics import mean_absolute_error, mean_squared_error, r2_score\n",
    "import joblib\n",
    "\n",
    "RANDOM_STATE = 42\n",
    "np.random.seed(RANDOM_STATE)\n",
    "\n",
    "ASSET_TYPE = \"property\"\n",
    "DATA_PATH = \"../data/property_dataset_v1.csv\"\n",
    "MODEL_BASE_DIR = \"../models\"\n",
    "\n",
    "ASSET_CONFIG = {\n",
    "    \"property\": {\n",
    "        \"target\": \"valuation_k\",\n",
    "        \"categorical\": [\n",
    "            \"location\", \"energy_class\",\n",
    "            \"has_elevator\", \"has_garden\", \"has_balcony\", \"garage\"\n",
    "        ],\n",
    "        \"numeric\": [\n",
    "            \"size_m2\", \"rooms\", \"bathrooms\", \"year_built\",\n",
    "            \"floor\", \"building_floors\",\n",
    "            \"humidity_level\", \"temperature_avg\",\n",
    "            \"noise_level\", \"air_quality_index\",  # base environment\n",
    "            # \"age_years\" sarà aggiunta se esiste / derivata\n",
    "        ],\n",
    "        \"exclude\": [\n",
    "            \"asset_id\", \"asset_type\",\n",
    "            \"condition_score\", \"risk_score\", \"last_verified_ts\"\n",
    "        ]\n",
    "    },\n",
    "    # Placeholder for future assets\n",
    "    \"art\": {\n",
    "        \"target\": \"valuation_k\",\n",
    "        \"categorical\": [],\n",
    "        \"numeric\": [],\n",
    "        \"exclude\": []\n",
    "    }\n",
    "}\n",
    "\n",
    "assert ASSET_TYPE in ASSET_CONFIG, f\"Unknown asset_type: {ASSET_TYPE}\"\n",
    "cfg = ASSET_CONFIG[ASSET_TYPE]"
   ]
  },
  {
   "cell_type": "markdown",
   "id": "2c0f3f96-b7be-48ff-a9b2-2c9b9569cb63",
   "metadata": {},
   "source": [
    "### Load dataset"
   ]
  },
  {
   "cell_type": "code",
   "execution_count": 3,
   "id": "38892f35-5a7d-488c-83d2-a99bca1e6fee",
   "metadata": {
    "scrolled": true
   },
   "outputs": [
    {
     "name": "stdout",
     "output_type": "stream",
     "text": [
      "Loaded dataset: ../data/property_dataset_v1.csv | shape: (150, 23)\n"
     ]
    }
   ],
   "source": [
    "df = pd.read_csv(DATA_PATH)\n",
    "print(\"Loaded dataset:\", DATA_PATH, \"| shape:\", df.shape)"
   ]
  },
  {
   "cell_type": "markdown",
   "id": "c08c1d08-0b0e-4ed0-bbd9-94c27b0909e3",
   "metadata": {},
   "source": [
    "### Normalization / Derivations"
   ]
  },
  {
   "cell_type": "code",
   "execution_count": 4,
   "id": "8e773326-72f1-480d-8473-b685af965df1",
   "metadata": {},
   "outputs": [
    {
     "name": "stdout",
     "output_type": "stream",
     "text": [
      "Dataset shape: (150, 23)\n"
     ]
    },
    {
     "data": {
      "text/html": [
       "<div>\n",
       "<style scoped>\n",
       "    .dataframe tbody tr th:only-of-type {\n",
       "        vertical-align: middle;\n",
       "    }\n",
       "\n",
       "    .dataframe tbody tr th {\n",
       "        vertical-align: top;\n",
       "    }\n",
       "\n",
       "    .dataframe thead th {\n",
       "        text-align: right;\n",
       "    }\n",
       "</style>\n",
       "<table border=\"1\" class=\"dataframe\">\n",
       "  <thead>\n",
       "    <tr style=\"text-align: right;\">\n",
       "      <th></th>\n",
       "      <th>asset_id</th>\n",
       "      <th>asset_type</th>\n",
       "      <th>location</th>\n",
       "      <th>size_m2</th>\n",
       "      <th>rooms</th>\n",
       "      <th>bathrooms</th>\n",
       "      <th>year_built</th>\n",
       "      <th>age_years</th>\n",
       "      <th>floor</th>\n",
       "      <th>building_floors</th>\n",
       "      <th>...</th>\n",
       "      <th>garage</th>\n",
       "      <th>energy_class</th>\n",
       "      <th>humidity_level</th>\n",
       "      <th>temperature_avg</th>\n",
       "      <th>noise_level</th>\n",
       "      <th>air_quality_index</th>\n",
       "      <th>valuation_k</th>\n",
       "      <th>condition_score</th>\n",
       "      <th>risk_score</th>\n",
       "      <th>last_verified_ts</th>\n",
       "    </tr>\n",
       "  </thead>\n",
       "  <tbody>\n",
       "    <tr>\n",
       "      <th>0</th>\n",
       "      <td>asset_0000</td>\n",
       "      <td>property</td>\n",
       "      <td>Naples</td>\n",
       "      <td>142</td>\n",
       "      <td>5</td>\n",
       "      <td>1</td>\n",
       "      <td>1964</td>\n",
       "      <td>61</td>\n",
       "      <td>2</td>\n",
       "      <td>7</td>\n",
       "      <td>...</td>\n",
       "      <td>1</td>\n",
       "      <td>B</td>\n",
       "      <td>53.9</td>\n",
       "      <td>17.8</td>\n",
       "      <td>42</td>\n",
       "      <td>104</td>\n",
       "      <td>348.41</td>\n",
       "      <td>0.852</td>\n",
       "      <td>0.140</td>\n",
       "      <td>2025-06-03T09:40:42Z</td>\n",
       "    </tr>\n",
       "    <tr>\n",
       "      <th>1</th>\n",
       "      <td>asset_0001</td>\n",
       "      <td>property</td>\n",
       "      <td>Milan</td>\n",
       "      <td>170</td>\n",
       "      <td>6</td>\n",
       "      <td>2</td>\n",
       "      <td>1979</td>\n",
       "      <td>46</td>\n",
       "      <td>1</td>\n",
       "      <td>9</td>\n",
       "      <td>...</td>\n",
       "      <td>0</td>\n",
       "      <td>A</td>\n",
       "      <td>69.7</td>\n",
       "      <td>20.0</td>\n",
       "      <td>77</td>\n",
       "      <td>51</td>\n",
       "      <td>222.10</td>\n",
       "      <td>0.730</td>\n",
       "      <td>0.261</td>\n",
       "      <td>2025-07-15T07:09:42Z</td>\n",
       "    </tr>\n",
       "    <tr>\n",
       "      <th>2</th>\n",
       "      <td>asset_0002</td>\n",
       "      <td>property</td>\n",
       "      <td>Palermo</td>\n",
       "      <td>54</td>\n",
       "      <td>4</td>\n",
       "      <td>3</td>\n",
       "      <td>2013</td>\n",
       "      <td>12</td>\n",
       "      <td>0</td>\n",
       "      <td>3</td>\n",
       "      <td>...</td>\n",
       "      <td>1</td>\n",
       "      <td>F</td>\n",
       "      <td>64.4</td>\n",
       "      <td>20.8</td>\n",
       "      <td>28</td>\n",
       "      <td>68</td>\n",
       "      <td>78.45</td>\n",
       "      <td>0.742</td>\n",
       "      <td>0.271</td>\n",
       "      <td>2025-07-05T22:46:42Z</td>\n",
       "    </tr>\n",
       "    <tr>\n",
       "      <th>3</th>\n",
       "      <td>asset_0003</td>\n",
       "      <td>property</td>\n",
       "      <td>Palermo</td>\n",
       "      <td>48</td>\n",
       "      <td>3</td>\n",
       "      <td>1</td>\n",
       "      <td>1951</td>\n",
       "      <td>74</td>\n",
       "      <td>3</td>\n",
       "      <td>7</td>\n",
       "      <td>...</td>\n",
       "      <td>0</td>\n",
       "      <td>B</td>\n",
       "      <td>47.6</td>\n",
       "      <td>13.6</td>\n",
       "      <td>27</td>\n",
       "      <td>76</td>\n",
       "      <td>90.58</td>\n",
       "      <td>0.776</td>\n",
       "      <td>0.216</td>\n",
       "      <td>2025-06-29T05:14:42Z</td>\n",
       "    </tr>\n",
       "    <tr>\n",
       "      <th>4</th>\n",
       "      <td>asset_0004</td>\n",
       "      <td>property</td>\n",
       "      <td>Rome</td>\n",
       "      <td>171</td>\n",
       "      <td>3</td>\n",
       "      <td>2</td>\n",
       "      <td>1955</td>\n",
       "      <td>70</td>\n",
       "      <td>1</td>\n",
       "      <td>5</td>\n",
       "      <td>...</td>\n",
       "      <td>1</td>\n",
       "      <td>D</td>\n",
       "      <td>37.4</td>\n",
       "      <td>24.6</td>\n",
       "      <td>45</td>\n",
       "      <td>73</td>\n",
       "      <td>591.70</td>\n",
       "      <td>0.764</td>\n",
       "      <td>0.254</td>\n",
       "      <td>2025-06-28T01:45:42Z</td>\n",
       "    </tr>\n",
       "  </tbody>\n",
       "</table>\n",
       "<p>5 rows × 23 columns</p>\n",
       "</div>"
      ],
      "text/plain": [
       "     asset_id asset_type location  size_m2  rooms  bathrooms  year_built  \\\n",
       "0  asset_0000   property   Naples      142      5          1        1964   \n",
       "1  asset_0001   property    Milan      170      6          2        1979   \n",
       "2  asset_0002   property  Palermo       54      4          3        2013   \n",
       "3  asset_0003   property  Palermo       48      3          1        1951   \n",
       "4  asset_0004   property     Rome      171      3          2        1955   \n",
       "\n",
       "   age_years  floor  building_floors  ...  garage  energy_class  \\\n",
       "0         61      2                7  ...       1             B   \n",
       "1         46      1                9  ...       0             A   \n",
       "2         12      0                3  ...       1             F   \n",
       "3         74      3                7  ...       0             B   \n",
       "4         70      1                5  ...       1             D   \n",
       "\n",
       "   humidity_level  temperature_avg noise_level  air_quality_index  \\\n",
       "0            53.9             17.8          42                104   \n",
       "1            69.7             20.0          77                 51   \n",
       "2            64.4             20.8          28                 68   \n",
       "3            47.6             13.6          27                 76   \n",
       "4            37.4             24.6          45                 73   \n",
       "\n",
       "   valuation_k  condition_score  risk_score      last_verified_ts  \n",
       "0       348.41            0.852       0.140  2025-06-03T09:40:42Z  \n",
       "1       222.10            0.730       0.261  2025-07-15T07:09:42Z  \n",
       "2        78.45            0.742       0.271  2025-07-05T22:46:42Z  \n",
       "3        90.58            0.776       0.216  2025-06-29T05:14:42Z  \n",
       "4       591.70            0.764       0.254  2025-06-28T01:45:42Z  \n",
       "\n",
       "[5 rows x 23 columns]"
      ]
     },
     "execution_count": 4,
     "metadata": {},
     "output_type": "execute_result"
    }
   ],
   "source": [
    "current_year = datetime.utcnow().year\n",
    "if \"year_build\" in df.columns and \"year_built\" not in df.columns:\n",
    "    df = df.rename(columns={\"year_build\": \"year_built\"})\n",
    "\n",
    "if \"age_years\" not in df.columns and \"year_built\" in df.columns:\n",
    "    df[\"age_years\"] = current_year - df[\"year_built\"]\n",
    "\n",
    "# Ensure age_years in numeric list if present\n",
    "if \"age_years\" in df.columns and \"age_years\" not in cfg[\"numeric\"]:\n",
    "    cfg[\"numeric\"].append(\"age_years\")\n",
    "\n",
    "print(\"Dataset shape:\", df.shape)\n",
    "df.head()"
   ]
  },
  {
   "cell_type": "markdown",
   "id": "fcdd9da4-99c6-42a0-9bb3-575d54a25cc9",
   "metadata": {},
   "source": [
    "### Sanity checks"
   ]
  },
  {
   "cell_type": "code",
   "execution_count": 5,
   "id": "69b68095-70f4-4b5d-ad0d-7b47ba5f9b7a",
   "metadata": {},
   "outputs": [
    {
     "name": "stdout",
     "output_type": "stream",
     "text": [
      "Target: valuation_k\n",
      "Categorical: ['location', 'energy_class', 'has_elevator', 'has_garden', 'has_balcony', 'garage']\n",
      "Numeric: ['size_m2', 'rooms', 'bathrooms', 'year_built', 'floor', 'building_floors', 'humidity_level', 'temperature_avg', 'noise_level', 'air_quality_index', 'age_years']\n",
      "Excluded: ['asset_id', 'asset_type', 'condition_score', 'risk_score', 'last_verified_ts']\n",
      "Feature candidates (pre-filter): ['location', 'size_m2', 'rooms', 'bathrooms', 'year_built', 'age_years', 'floor', 'building_floors', 'has_elevator', 'has_garden', 'has_balcony', 'garage', 'energy_class', 'humidity_level', 'temperature_avg', 'noise_level', 'air_quality_index']\n"
     ]
    }
   ],
   "source": [
    "required_base = [cfg[\"target\"]] + cfg[\"categorical\"] + cfg[\"numeric\"]\n",
    "missing = [c for c in required_base if c not in df.columns]\n",
    "if missing:\n",
    "    raise ValueError(f\"Missing required columns in dataset: {missing}\")\n",
    "\n",
    "# Remove excluded & target from feature candidates\n",
    "excluded = set(cfg[\"exclude\"] + [cfg[\"target\"]])\n",
    "feature_candidates = [c for c in df.columns if c not in excluded]\n",
    "\n",
    "print(\"Target:\", cfg[\"target\"])\n",
    "print(\"Categorical:\", cfg[\"categorical\"])\n",
    "print(\"Numeric:\", cfg[\"numeric\"])\n",
    "print(\"Excluded:\", cfg[\"exclude\"])\n",
    "print(\"Feature candidates (pre-filter):\", feature_candidates)"
   ]
  },
  {
   "cell_type": "markdown",
   "id": "0c915f13-189c-4380-9c72-a30680dfdd1b",
   "metadata": {},
   "source": [
    "### Final feature list = categorical + numeric (explicit control)"
   ]
  },
  {
   "cell_type": "code",
   "execution_count": 6,
   "id": "dd171f89-0d87-4a14-b26a-3e39db97ebec",
   "metadata": {},
   "outputs": [
    {
     "name": "stdout",
     "output_type": "stream",
     "text": [
      "Final feature_list used: ['location', 'energy_class', 'has_elevator', 'has_garden', 'has_balcony', 'garage', 'size_m2', 'rooms', 'bathrooms', 'year_built', 'floor', 'building_floors', 'humidity_level', 'temperature_avg', 'noise_level', 'air_quality_index', 'age_years']\n"
     ]
    }
   ],
   "source": [
    "feature_list = cfg[\"categorical\"] + cfg[\"numeric\"]\n",
    "print(\"Final feature_list used:\", feature_list)\n",
    "\n",
    "X = df[feature_list].copy()\n",
    "y = df[cfg[\"target\"]].copy()"
   ]
  },
  {
   "cell_type": "markdown",
   "id": "f9fdc4b9-98c5-43ac-9804-13c954b02c63",
   "metadata": {},
   "source": [
    "### Train/test split"
   ]
  },
  {
   "cell_type": "code",
   "execution_count": 7,
   "id": "91aed31d-f657-4b2e-a37a-5bf3a588b6f3",
   "metadata": {},
   "outputs": [],
   "source": [
    "X_train, X_test, y_train, y_test = train_test_split(\n",
    "    X, y, test_size=0.20, random_state=RANDOM_STATE\n",
    ")"
   ]
  },
  {
   "cell_type": "markdown",
   "id": "1bf1f075-89a4-4e49-a30c-2031f17ab419",
   "metadata": {},
   "source": [
    "### Preprocessor & model pipeline"
   ]
  },
  {
   "cell_type": "code",
   "execution_count": 8,
   "id": "a90328c1-1e44-4551-a9e9-bb18e4a8817c",
   "metadata": {},
   "outputs": [],
   "source": [
    "categorical_cols = cfg[\"categorical\"]\n",
    "numeric_cols = cfg[\"numeric\"]\n",
    "\n",
    "preprocessor = ColumnTransformer(\n",
    "    transformers=[\n",
    "        (\"cat\", OneHotEncoder(handle_unknown=\"ignore\"), categorical_cols),\n",
    "        (\"num\", \"passthrough\", numeric_cols)\n",
    "    ],\n",
    "    remainder=\"drop\"\n",
    ")\n",
    "\n",
    "regressor = RandomForestRegressor(\n",
    "    n_estimators=220,\n",
    "    random_state=RANDOM_STATE,\n",
    "    n_jobs=-1\n",
    ")\n",
    "\n",
    "pipeline = Pipeline(steps=[\n",
    "    (\"preprocessor\", preprocessor),\n",
    "    (\"regressor\", regressor)\n",
    "])"
   ]
  },
  {
   "cell_type": "markdown",
   "id": "9bbc1d70-e1f4-48ce-ac17-2592e450c444",
   "metadata": {},
   "source": [
    "### Fit & Evaluation"
   ]
  },
  {
   "cell_type": "code",
   "execution_count": 17,
   "id": "25e8fbd0-06d4-4953-a984-e10065677f54",
   "metadata": {},
   "outputs": [
    {
     "name": "stdout",
     "output_type": "stream",
     "text": [
      "MAE:  81.713 k€\n",
      "RMSE: 104.809 k€\n",
      "R²:   0.335\n"
     ]
    }
   ],
   "source": [
    "pipeline.fit(X_train, y_train)\n",
    "\n",
    "y_pred = pipeline.predict(X_test)\n",
    "mae = mean_absolute_error(y_test, y_pred)\n",
    "mse = mean_squared_error(y_test, y_pred)\n",
    "rmse = mse ** 0.5\n",
    "r2 = r2_score(y_test, y_pred)\n",
    "\n",
    "print(f\"MAE:  {mae:.3f} k€\")\n",
    "print(f\"RMSE: {rmse:.3f} k€\")\n",
    "print(f\"R²:   {r2:.3f}\")"
   ]
  },
  {
   "cell_type": "markdown",
   "id": "79f7e416-e4b5-493f-86d4-30f9b02de1b4",
   "metadata": {},
   "source": [
    "### Feature importance (only for tree model)"
   ]
  },
  {
   "cell_type": "code",
   "execution_count": 18,
   "id": "f2bb987e-dafa-4842-9b9c-aefe4593cb78",
   "metadata": {},
   "outputs": [
    {
     "name": "stdout",
     "output_type": "stream",
     "text": [
      "\n",
      "Top 10 feature importances:\n"
     ]
    },
    {
     "data": {
      "text/html": [
       "<div>\n",
       "<style scoped>\n",
       "    .dataframe tbody tr th:only-of-type {\n",
       "        vertical-align: middle;\n",
       "    }\n",
       "\n",
       "    .dataframe tbody tr th {\n",
       "        vertical-align: top;\n",
       "    }\n",
       "\n",
       "    .dataframe thead th {\n",
       "        text-align: right;\n",
       "    }\n",
       "</style>\n",
       "<table border=\"1\" class=\"dataframe\">\n",
       "  <thead>\n",
       "    <tr style=\"text-align: right;\">\n",
       "      <th></th>\n",
       "      <th>feature</th>\n",
       "      <th>importance</th>\n",
       "    </tr>\n",
       "  </thead>\n",
       "  <tbody>\n",
       "    <tr>\n",
       "      <th>0</th>\n",
       "      <td>size_m2</td>\n",
       "      <td>0.736971</td>\n",
       "    </tr>\n",
       "    <tr>\n",
       "      <th>1</th>\n",
       "      <td>temperature_avg</td>\n",
       "      <td>0.035404</td>\n",
       "    </tr>\n",
       "    <tr>\n",
       "      <th>2</th>\n",
       "      <td>humidity_level</td>\n",
       "      <td>0.034904</td>\n",
       "    </tr>\n",
       "    <tr>\n",
       "      <th>3</th>\n",
       "      <td>air_quality_index</td>\n",
       "      <td>0.023537</td>\n",
       "    </tr>\n",
       "    <tr>\n",
       "      <th>4</th>\n",
       "      <td>age_years</td>\n",
       "      <td>0.022832</td>\n",
       "    </tr>\n",
       "    <tr>\n",
       "      <th>5</th>\n",
       "      <td>year_built</td>\n",
       "      <td>0.022450</td>\n",
       "    </tr>\n",
       "    <tr>\n",
       "      <th>6</th>\n",
       "      <td>noise_level</td>\n",
       "      <td>0.017944</td>\n",
       "    </tr>\n",
       "    <tr>\n",
       "      <th>7</th>\n",
       "      <td>building_floors</td>\n",
       "      <td>0.017651</td>\n",
       "    </tr>\n",
       "    <tr>\n",
       "      <th>8</th>\n",
       "      <td>floor</td>\n",
       "      <td>0.010627</td>\n",
       "    </tr>\n",
       "    <tr>\n",
       "      <th>9</th>\n",
       "      <td>rooms</td>\n",
       "      <td>0.007303</td>\n",
       "    </tr>\n",
       "  </tbody>\n",
       "</table>\n",
       "</div>"
      ],
      "text/plain": [
       "             feature  importance\n",
       "0            size_m2    0.736971\n",
       "1    temperature_avg    0.035404\n",
       "2     humidity_level    0.034904\n",
       "3  air_quality_index    0.023537\n",
       "4          age_years    0.022832\n",
       "5         year_built    0.022450\n",
       "6        noise_level    0.017944\n",
       "7    building_floors    0.017651\n",
       "8              floor    0.010627\n",
       "9              rooms    0.007303"
      ]
     },
     "metadata": {},
     "output_type": "display_data"
    }
   ],
   "source": [
    "ohe = pipeline.named_steps[\"preprocessor\"].named_transformers_[\"cat\"]\n",
    "encoded_cat_features = list(ohe.get_feature_names_out(categorical_cols))\n",
    "encoded_feature_names = encoded_cat_features + numeric_cols\n",
    "\n",
    "importances = pipeline.named_steps[\"regressor\"].feature_importances_\n",
    "feat_importance = (\n",
    "    pd.DataFrame({\"feature\": encoded_feature_names, \"importance\": importances})\n",
    "    .sort_values(\"importance\", ascending=False)\n",
    "    .reset_index(drop=True)\n",
    ")\n",
    "print(\"\\nTop 10 feature importances:\")\n",
    "display(feat_importance.head(10))"
   ]
  },
  {
   "cell_type": "markdown",
   "id": "02c11449-9757-42a3-942b-e91ead0c922c",
   "metadata": {},
   "source": [
    "### Save model & metadata"
   ]
  },
  {
   "cell_type": "code",
   "execution_count": 19,
   "id": "0b2e3e4f-8e12-4028-a0c6-de17ea9fc35b",
   "metadata": {},
   "outputs": [
    {
     "data": {
      "text/plain": [
       "['../models/property/value_regressor_v1.joblib']"
      ]
     },
     "execution_count": 19,
     "metadata": {},
     "output_type": "execute_result"
    }
   ],
   "source": [
    "os.makedirs(f\"{MODEL_BASE_DIR}/{ASSET_TYPE}\", exist_ok=True)\n",
    "model_version = \"v1\"  # bump manually when retraining with significant changes\n",
    "\n",
    "pipeline_filename = f\"{MODEL_BASE_DIR}/{ASSET_TYPE}/value_regressor_{model_version}.joblib\"\n",
    "joblib.dump(pipeline, pipeline_filename)"
   ]
  },
  {
   "cell_type": "markdown",
   "id": "b7e2720c-342e-4ab0-8684-69729415667e",
   "metadata": {},
   "source": [
    "### Dataset hash for provenance"
   ]
  },
  {
   "cell_type": "code",
   "execution_count": 20,
   "id": "b8bddc2e-2cf7-40c9-a6b6-4e31c34fc374",
   "metadata": {},
   "outputs": [
    {
     "name": "stdout",
     "output_type": "stream",
     "text": [
      "\n",
      "Saved pipeline: ../models/property/value_regressor_v1.joblib\n",
      "Saved metadata: ../models/property/value_regressor_v1_meta.json\n"
     ]
    }
   ],
   "source": [
    "with open(DATA_PATH, \"rb\") as f:\n",
    "    dataset_hash = hashlib.sha256(f.read()).hexdigest()\n",
    "\n",
    "metadata = {\n",
    "    \"asset_type\": ASSET_TYPE,\n",
    "    \"model_task\": \"valuation_regression\",\n",
    "    \"model_version\": model_version,\n",
    "    \"model_class\": type(regressor).__name__,\n",
    "    \"random_state\": RANDOM_STATE,\n",
    "    \"dataset_file\": DATA_PATH,\n",
    "    \"dataset_hash_sha256\": dataset_hash,\n",
    "    \"n_rows_total\": int(len(df)),\n",
    "    \"n_rows_train\": int(len(X_train)),\n",
    "    \"n_rows_test\": int(len(X_test)),\n",
    "    \"features_categorical\": categorical_cols,\n",
    "    \"features_numeric\": numeric_cols,\n",
    "    \"feature_list_ordered\": feature_list,\n",
    "    \"encoded_feature_count\": len(encoded_feature_names),\n",
    "    \"metrics\": {\n",
    "        \"mae_k\": float(round(mae, 4)),\n",
    "        \"rmse_k\": float(round(rmse, 4)),\n",
    "        \"r2\": float(round(r2, 4))\n",
    "    },\n",
    "    \"generated_at\": datetime.utcnow().isoformat() + \"Z\",\n",
    "    \"feature_importance_top10\": feat_importance.head(10).to_dict(orient=\"records\")\n",
    "}\n",
    "\n",
    "meta_filename = f\"{MODEL_BASE_DIR}/{ASSET_TYPE}/value_regressor_{model_version}_meta.json\"\n",
    "with open(meta_filename, \"w\", encoding=\"utf-8\") as f:\n",
    "    json.dump(metadata, f, indent=2)\n",
    "\n",
    "print(\"\\nSaved pipeline:\", pipeline_filename)\n",
    "print(\"Saved metadata:\", meta_filename)"
   ]
  },
  {
   "cell_type": "code",
   "execution_count": null,
   "id": "dca4e786-3051-40b5-9a66-c114b4bffd54",
   "metadata": {},
   "outputs": [],
   "source": []
  }
 ],
 "metadata": {
  "kernelspec": {
   "display_name": "Python 3 (ipykernel)",
   "language": "python",
   "name": "python3"
  },
  "language_info": {
   "codemirror_mode": {
    "name": "ipython",
    "version": 3
   },
   "file_extension": ".py",
   "mimetype": "text/x-python",
   "name": "python",
   "nbconvert_exporter": "python",
   "pygments_lexer": "ipython3",
   "version": "3.11.13"
  }
 },
 "nbformat": 4,
 "nbformat_minor": 5
}
